{
 "cells": [
  {
   "cell_type": "code",
   "execution_count": 1,
   "id": "502aae95",
   "metadata": {
    "execution": {
     "iopub.execute_input": "2022-06-20T12:22:33.964808Z",
     "iopub.status.busy": "2022-06-20T12:22:33.964321Z",
     "iopub.status.idle": "2022-06-20T12:22:35.108644Z",
     "shell.execute_reply": "2022-06-20T12:22:35.107495Z"
    },
    "papermill": {
     "duration": 1.166053,
     "end_time": "2022-06-20T12:22:35.111552",
     "exception": false,
     "start_time": "2022-06-20T12:22:33.945499",
     "status": "completed"
    },
    "tags": []
   },
   "outputs": [],
   "source": [
    "import numpy as np\n",
    "import pandas as pd\n",
    "import matplotlib.pyplot as plt\n",
    "import seaborn as sns"
   ]
  },
  {
   "cell_type": "code",
   "execution_count": 2,
   "id": "7c7f011f",
   "metadata": {
    "execution": {
     "iopub.execute_input": "2022-06-20T12:22:35.143656Z",
     "iopub.status.busy": "2022-06-20T12:22:35.142999Z",
     "iopub.status.idle": "2022-06-20T12:22:35.402332Z",
     "shell.execute_reply": "2022-06-20T12:22:35.401516Z"
    },
    "papermill": {
     "duration": 0.278581,
     "end_time": "2022-06-20T12:22:35.405197",
     "exception": false,
     "start_time": "2022-06-20T12:22:35.126616",
     "status": "completed"
    },
    "tags": []
   },
   "outputs": [],
   "source": [
    "data=pd.read_csv(\"../input/womens-ecommerce-clothing-reviews/Womens Clothing E-Commerce Reviews.csv\")"
   ]
  },
  {
   "cell_type": "code",
   "execution_count": 3,
   "id": "d0b39f82",
   "metadata": {
    "execution": {
     "iopub.execute_input": "2022-06-20T12:22:35.439858Z",
     "iopub.status.busy": "2022-06-20T12:22:35.438888Z",
     "iopub.status.idle": "2022-06-20T12:22:35.472176Z",
     "shell.execute_reply": "2022-06-20T12:22:35.471448Z"
    },
    "papermill": {
     "duration": 0.052274,
     "end_time": "2022-06-20T12:22:35.475087",
     "exception": false,
     "start_time": "2022-06-20T12:22:35.422813",
     "status": "completed"
    },
    "tags": []
   },
   "outputs": [
    {
     "data": {
      "text/html": [
       "<div>\n",
       "<style scoped>\n",
       "    .dataframe tbody tr th:only-of-type {\n",
       "        vertical-align: middle;\n",
       "    }\n",
       "\n",
       "    .dataframe tbody tr th {\n",
       "        vertical-align: top;\n",
       "    }\n",
       "\n",
       "    .dataframe thead th {\n",
       "        text-align: right;\n",
       "    }\n",
       "</style>\n",
       "<table border=\"1\" class=\"dataframe\">\n",
       "  <thead>\n",
       "    <tr style=\"text-align: right;\">\n",
       "      <th></th>\n",
       "      <th>Unnamed: 0</th>\n",
       "      <th>Clothing ID</th>\n",
       "      <th>Age</th>\n",
       "      <th>Title</th>\n",
       "      <th>Review Text</th>\n",
       "      <th>Rating</th>\n",
       "      <th>Recommended IND</th>\n",
       "      <th>Positive Feedback Count</th>\n",
       "      <th>Division Name</th>\n",
       "      <th>Department Name</th>\n",
       "      <th>Class Name</th>\n",
       "    </tr>\n",
       "  </thead>\n",
       "  <tbody>\n",
       "    <tr>\n",
       "      <th>0</th>\n",
       "      <td>0</td>\n",
       "      <td>767</td>\n",
       "      <td>33</td>\n",
       "      <td>NaN</td>\n",
       "      <td>Absolutely wonderful - silky and sexy and comf...</td>\n",
       "      <td>4</td>\n",
       "      <td>1</td>\n",
       "      <td>0</td>\n",
       "      <td>Initmates</td>\n",
       "      <td>Intimate</td>\n",
       "      <td>Intimates</td>\n",
       "    </tr>\n",
       "    <tr>\n",
       "      <th>1</th>\n",
       "      <td>1</td>\n",
       "      <td>1080</td>\n",
       "      <td>34</td>\n",
       "      <td>NaN</td>\n",
       "      <td>Love this dress!  it's sooo pretty.  i happene...</td>\n",
       "      <td>5</td>\n",
       "      <td>1</td>\n",
       "      <td>4</td>\n",
       "      <td>General</td>\n",
       "      <td>Dresses</td>\n",
       "      <td>Dresses</td>\n",
       "    </tr>\n",
       "    <tr>\n",
       "      <th>2</th>\n",
       "      <td>2</td>\n",
       "      <td>1077</td>\n",
       "      <td>60</td>\n",
       "      <td>Some major design flaws</td>\n",
       "      <td>I had such high hopes for this dress and reall...</td>\n",
       "      <td>3</td>\n",
       "      <td>0</td>\n",
       "      <td>0</td>\n",
       "      <td>General</td>\n",
       "      <td>Dresses</td>\n",
       "      <td>Dresses</td>\n",
       "    </tr>\n",
       "    <tr>\n",
       "      <th>3</th>\n",
       "      <td>3</td>\n",
       "      <td>1049</td>\n",
       "      <td>50</td>\n",
       "      <td>My favorite buy!</td>\n",
       "      <td>I love, love, love this jumpsuit. it's fun, fl...</td>\n",
       "      <td>5</td>\n",
       "      <td>1</td>\n",
       "      <td>0</td>\n",
       "      <td>General Petite</td>\n",
       "      <td>Bottoms</td>\n",
       "      <td>Pants</td>\n",
       "    </tr>\n",
       "    <tr>\n",
       "      <th>4</th>\n",
       "      <td>4</td>\n",
       "      <td>847</td>\n",
       "      <td>47</td>\n",
       "      <td>Flattering shirt</td>\n",
       "      <td>This shirt is very flattering to all due to th...</td>\n",
       "      <td>5</td>\n",
       "      <td>1</td>\n",
       "      <td>6</td>\n",
       "      <td>General</td>\n",
       "      <td>Tops</td>\n",
       "      <td>Blouses</td>\n",
       "    </tr>\n",
       "    <tr>\n",
       "      <th>...</th>\n",
       "      <td>...</td>\n",
       "      <td>...</td>\n",
       "      <td>...</td>\n",
       "      <td>...</td>\n",
       "      <td>...</td>\n",
       "      <td>...</td>\n",
       "      <td>...</td>\n",
       "      <td>...</td>\n",
       "      <td>...</td>\n",
       "      <td>...</td>\n",
       "      <td>...</td>\n",
       "    </tr>\n",
       "    <tr>\n",
       "      <th>23481</th>\n",
       "      <td>23481</td>\n",
       "      <td>1104</td>\n",
       "      <td>34</td>\n",
       "      <td>Great dress for many occasions</td>\n",
       "      <td>I was very happy to snag this dress at such a ...</td>\n",
       "      <td>5</td>\n",
       "      <td>1</td>\n",
       "      <td>0</td>\n",
       "      <td>General Petite</td>\n",
       "      <td>Dresses</td>\n",
       "      <td>Dresses</td>\n",
       "    </tr>\n",
       "    <tr>\n",
       "      <th>23482</th>\n",
       "      <td>23482</td>\n",
       "      <td>862</td>\n",
       "      <td>48</td>\n",
       "      <td>Wish it was made of cotton</td>\n",
       "      <td>It reminds me of maternity clothes. soft, stre...</td>\n",
       "      <td>3</td>\n",
       "      <td>1</td>\n",
       "      <td>0</td>\n",
       "      <td>General Petite</td>\n",
       "      <td>Tops</td>\n",
       "      <td>Knits</td>\n",
       "    </tr>\n",
       "    <tr>\n",
       "      <th>23483</th>\n",
       "      <td>23483</td>\n",
       "      <td>1104</td>\n",
       "      <td>31</td>\n",
       "      <td>Cute, but see through</td>\n",
       "      <td>This fit well, but the top was very see throug...</td>\n",
       "      <td>3</td>\n",
       "      <td>0</td>\n",
       "      <td>1</td>\n",
       "      <td>General Petite</td>\n",
       "      <td>Dresses</td>\n",
       "      <td>Dresses</td>\n",
       "    </tr>\n",
       "    <tr>\n",
       "      <th>23484</th>\n",
       "      <td>23484</td>\n",
       "      <td>1084</td>\n",
       "      <td>28</td>\n",
       "      <td>Very cute dress, perfect for summer parties an...</td>\n",
       "      <td>I bought this dress for a wedding i have this ...</td>\n",
       "      <td>3</td>\n",
       "      <td>1</td>\n",
       "      <td>2</td>\n",
       "      <td>General</td>\n",
       "      <td>Dresses</td>\n",
       "      <td>Dresses</td>\n",
       "    </tr>\n",
       "    <tr>\n",
       "      <th>23485</th>\n",
       "      <td>23485</td>\n",
       "      <td>1104</td>\n",
       "      <td>52</td>\n",
       "      <td>Please make more like this one!</td>\n",
       "      <td>This dress in a lovely platinum is feminine an...</td>\n",
       "      <td>5</td>\n",
       "      <td>1</td>\n",
       "      <td>22</td>\n",
       "      <td>General Petite</td>\n",
       "      <td>Dresses</td>\n",
       "      <td>Dresses</td>\n",
       "    </tr>\n",
       "  </tbody>\n",
       "</table>\n",
       "<p>23486 rows × 11 columns</p>\n",
       "</div>"
      ],
      "text/plain": [
       "       Unnamed: 0  Clothing ID  Age  \\\n",
       "0               0          767   33   \n",
       "1               1         1080   34   \n",
       "2               2         1077   60   \n",
       "3               3         1049   50   \n",
       "4               4          847   47   \n",
       "...           ...          ...  ...   \n",
       "23481       23481         1104   34   \n",
       "23482       23482          862   48   \n",
       "23483       23483         1104   31   \n",
       "23484       23484         1084   28   \n",
       "23485       23485         1104   52   \n",
       "\n",
       "                                                   Title  \\\n",
       "0                                                    NaN   \n",
       "1                                                    NaN   \n",
       "2                                Some major design flaws   \n",
       "3                                       My favorite buy!   \n",
       "4                                       Flattering shirt   \n",
       "...                                                  ...   \n",
       "23481                     Great dress for many occasions   \n",
       "23482                         Wish it was made of cotton   \n",
       "23483                              Cute, but see through   \n",
       "23484  Very cute dress, perfect for summer parties an...   \n",
       "23485                    Please make more like this one!   \n",
       "\n",
       "                                             Review Text  Rating  \\\n",
       "0      Absolutely wonderful - silky and sexy and comf...       4   \n",
       "1      Love this dress!  it's sooo pretty.  i happene...       5   \n",
       "2      I had such high hopes for this dress and reall...       3   \n",
       "3      I love, love, love this jumpsuit. it's fun, fl...       5   \n",
       "4      This shirt is very flattering to all due to th...       5   \n",
       "...                                                  ...     ...   \n",
       "23481  I was very happy to snag this dress at such a ...       5   \n",
       "23482  It reminds me of maternity clothes. soft, stre...       3   \n",
       "23483  This fit well, but the top was very see throug...       3   \n",
       "23484  I bought this dress for a wedding i have this ...       3   \n",
       "23485  This dress in a lovely platinum is feminine an...       5   \n",
       "\n",
       "       Recommended IND  Positive Feedback Count   Division Name  \\\n",
       "0                    1                        0       Initmates   \n",
       "1                    1                        4         General   \n",
       "2                    0                        0         General   \n",
       "3                    1                        0  General Petite   \n",
       "4                    1                        6         General   \n",
       "...                ...                      ...             ...   \n",
       "23481                1                        0  General Petite   \n",
       "23482                1                        0  General Petite   \n",
       "23483                0                        1  General Petite   \n",
       "23484                1                        2         General   \n",
       "23485                1                       22  General Petite   \n",
       "\n",
       "      Department Name Class Name  \n",
       "0            Intimate  Intimates  \n",
       "1             Dresses    Dresses  \n",
       "2             Dresses    Dresses  \n",
       "3             Bottoms      Pants  \n",
       "4                Tops    Blouses  \n",
       "...               ...        ...  \n",
       "23481         Dresses    Dresses  \n",
       "23482            Tops      Knits  \n",
       "23483         Dresses    Dresses  \n",
       "23484         Dresses    Dresses  \n",
       "23485         Dresses    Dresses  \n",
       "\n",
       "[23486 rows x 11 columns]"
      ]
     },
     "execution_count": 3,
     "metadata": {},
     "output_type": "execute_result"
    }
   ],
   "source": [
    "data"
   ]
  },
  {
   "cell_type": "code",
   "execution_count": 4,
   "id": "f0bbc44b",
   "metadata": {
    "execution": {
     "iopub.execute_input": "2022-06-20T12:22:35.508411Z",
     "iopub.status.busy": "2022-06-20T12:22:35.507734Z",
     "iopub.status.idle": "2022-06-20T12:22:35.522566Z",
     "shell.execute_reply": "2022-06-20T12:22:35.521399Z"
    },
    "papermill": {
     "duration": 0.034323,
     "end_time": "2022-06-20T12:22:35.524828",
     "exception": false,
     "start_time": "2022-06-20T12:22:35.490505",
     "status": "completed"
    },
    "tags": []
   },
   "outputs": [
    {
     "data": {
      "text/html": [
       "<div>\n",
       "<style scoped>\n",
       "    .dataframe tbody tr th:only-of-type {\n",
       "        vertical-align: middle;\n",
       "    }\n",
       "\n",
       "    .dataframe tbody tr th {\n",
       "        vertical-align: top;\n",
       "    }\n",
       "\n",
       "    .dataframe thead th {\n",
       "        text-align: right;\n",
       "    }\n",
       "</style>\n",
       "<table border=\"1\" class=\"dataframe\">\n",
       "  <thead>\n",
       "    <tr style=\"text-align: right;\">\n",
       "      <th></th>\n",
       "      <th>Unnamed: 0</th>\n",
       "      <th>Clothing ID</th>\n",
       "      <th>Age</th>\n",
       "      <th>Title</th>\n",
       "      <th>Review Text</th>\n",
       "      <th>Rating</th>\n",
       "      <th>Recommended IND</th>\n",
       "      <th>Positive Feedback Count</th>\n",
       "      <th>Division Name</th>\n",
       "      <th>Department Name</th>\n",
       "      <th>Class Name</th>\n",
       "    </tr>\n",
       "  </thead>\n",
       "  <tbody>\n",
       "    <tr>\n",
       "      <th>0</th>\n",
       "      <td>0</td>\n",
       "      <td>767</td>\n",
       "      <td>33</td>\n",
       "      <td>NaN</td>\n",
       "      <td>Absolutely wonderful - silky and sexy and comf...</td>\n",
       "      <td>4</td>\n",
       "      <td>1</td>\n",
       "      <td>0</td>\n",
       "      <td>Initmates</td>\n",
       "      <td>Intimate</td>\n",
       "      <td>Intimates</td>\n",
       "    </tr>\n",
       "    <tr>\n",
       "      <th>1</th>\n",
       "      <td>1</td>\n",
       "      <td>1080</td>\n",
       "      <td>34</td>\n",
       "      <td>NaN</td>\n",
       "      <td>Love this dress!  it's sooo pretty.  i happene...</td>\n",
       "      <td>5</td>\n",
       "      <td>1</td>\n",
       "      <td>4</td>\n",
       "      <td>General</td>\n",
       "      <td>Dresses</td>\n",
       "      <td>Dresses</td>\n",
       "    </tr>\n",
       "    <tr>\n",
       "      <th>2</th>\n",
       "      <td>2</td>\n",
       "      <td>1077</td>\n",
       "      <td>60</td>\n",
       "      <td>Some major design flaws</td>\n",
       "      <td>I had such high hopes for this dress and reall...</td>\n",
       "      <td>3</td>\n",
       "      <td>0</td>\n",
       "      <td>0</td>\n",
       "      <td>General</td>\n",
       "      <td>Dresses</td>\n",
       "      <td>Dresses</td>\n",
       "    </tr>\n",
       "    <tr>\n",
       "      <th>3</th>\n",
       "      <td>3</td>\n",
       "      <td>1049</td>\n",
       "      <td>50</td>\n",
       "      <td>My favorite buy!</td>\n",
       "      <td>I love, love, love this jumpsuit. it's fun, fl...</td>\n",
       "      <td>5</td>\n",
       "      <td>1</td>\n",
       "      <td>0</td>\n",
       "      <td>General Petite</td>\n",
       "      <td>Bottoms</td>\n",
       "      <td>Pants</td>\n",
       "    </tr>\n",
       "    <tr>\n",
       "      <th>4</th>\n",
       "      <td>4</td>\n",
       "      <td>847</td>\n",
       "      <td>47</td>\n",
       "      <td>Flattering shirt</td>\n",
       "      <td>This shirt is very flattering to all due to th...</td>\n",
       "      <td>5</td>\n",
       "      <td>1</td>\n",
       "      <td>6</td>\n",
       "      <td>General</td>\n",
       "      <td>Tops</td>\n",
       "      <td>Blouses</td>\n",
       "    </tr>\n",
       "  </tbody>\n",
       "</table>\n",
       "</div>"
      ],
      "text/plain": [
       "   Unnamed: 0  Clothing ID  Age                    Title  \\\n",
       "0           0          767   33                      NaN   \n",
       "1           1         1080   34                      NaN   \n",
       "2           2         1077   60  Some major design flaws   \n",
       "3           3         1049   50         My favorite buy!   \n",
       "4           4          847   47         Flattering shirt   \n",
       "\n",
       "                                         Review Text  Rating  Recommended IND  \\\n",
       "0  Absolutely wonderful - silky and sexy and comf...       4                1   \n",
       "1  Love this dress!  it's sooo pretty.  i happene...       5                1   \n",
       "2  I had such high hopes for this dress and reall...       3                0   \n",
       "3  I love, love, love this jumpsuit. it's fun, fl...       5                1   \n",
       "4  This shirt is very flattering to all due to th...       5                1   \n",
       "\n",
       "   Positive Feedback Count   Division Name Department Name Class Name  \n",
       "0                        0       Initmates        Intimate  Intimates  \n",
       "1                        4         General         Dresses    Dresses  \n",
       "2                        0         General         Dresses    Dresses  \n",
       "3                        0  General Petite         Bottoms      Pants  \n",
       "4                        6         General            Tops    Blouses  "
      ]
     },
     "execution_count": 4,
     "metadata": {},
     "output_type": "execute_result"
    }
   ],
   "source": [
    "data.head()"
   ]
  },
  {
   "cell_type": "code",
   "execution_count": 5,
   "id": "853e2876",
   "metadata": {
    "execution": {
     "iopub.execute_input": "2022-06-20T12:22:35.559292Z",
     "iopub.status.busy": "2022-06-20T12:22:35.558874Z",
     "iopub.status.idle": "2022-06-20T12:22:35.597948Z",
     "shell.execute_reply": "2022-06-20T12:22:35.596404Z"
    },
    "papermill": {
     "duration": 0.059469,
     "end_time": "2022-06-20T12:22:35.600419",
     "exception": false,
     "start_time": "2022-06-20T12:22:35.540950",
     "status": "completed"
    },
    "tags": []
   },
   "outputs": [
    {
     "name": "stdout",
     "output_type": "stream",
     "text": [
      "<class 'pandas.core.frame.DataFrame'>\n",
      "RangeIndex: 23486 entries, 0 to 23485\n",
      "Data columns (total 11 columns):\n",
      " #   Column                   Non-Null Count  Dtype \n",
      "---  ------                   --------------  ----- \n",
      " 0   Unnamed: 0               23486 non-null  int64 \n",
      " 1   Clothing ID              23486 non-null  int64 \n",
      " 2   Age                      23486 non-null  int64 \n",
      " 3   Title                    19676 non-null  object\n",
      " 4   Review Text              22641 non-null  object\n",
      " 5   Rating                   23486 non-null  int64 \n",
      " 6   Recommended IND          23486 non-null  int64 \n",
      " 7   Positive Feedback Count  23486 non-null  int64 \n",
      " 8   Division Name            23472 non-null  object\n",
      " 9   Department Name          23472 non-null  object\n",
      " 10  Class Name               23472 non-null  object\n",
      "dtypes: int64(6), object(5)\n",
      "memory usage: 2.0+ MB\n"
     ]
    }
   ],
   "source": [
    "data.info()"
   ]
  },
  {
   "cell_type": "code",
   "execution_count": 6,
   "id": "91d913c8",
   "metadata": {
    "execution": {
     "iopub.execute_input": "2022-06-20T12:22:35.634008Z",
     "iopub.status.busy": "2022-06-20T12:22:35.633262Z",
     "iopub.status.idle": "2022-06-20T12:22:35.670951Z",
     "shell.execute_reply": "2022-06-20T12:22:35.669603Z"
    },
    "papermill": {
     "duration": 0.057255,
     "end_time": "2022-06-20T12:22:35.673633",
     "exception": false,
     "start_time": "2022-06-20T12:22:35.616378",
     "status": "completed"
    },
    "tags": []
   },
   "outputs": [
    {
     "data": {
      "text/html": [
       "<div>\n",
       "<style scoped>\n",
       "    .dataframe tbody tr th:only-of-type {\n",
       "        vertical-align: middle;\n",
       "    }\n",
       "\n",
       "    .dataframe tbody tr th {\n",
       "        vertical-align: top;\n",
       "    }\n",
       "\n",
       "    .dataframe thead th {\n",
       "        text-align: right;\n",
       "    }\n",
       "</style>\n",
       "<table border=\"1\" class=\"dataframe\">\n",
       "  <thead>\n",
       "    <tr style=\"text-align: right;\">\n",
       "      <th></th>\n",
       "      <th>Unnamed: 0</th>\n",
       "      <th>Clothing ID</th>\n",
       "      <th>Age</th>\n",
       "      <th>Rating</th>\n",
       "      <th>Recommended IND</th>\n",
       "      <th>Positive Feedback Count</th>\n",
       "    </tr>\n",
       "  </thead>\n",
       "  <tbody>\n",
       "    <tr>\n",
       "      <th>count</th>\n",
       "      <td>23486.000000</td>\n",
       "      <td>23486.000000</td>\n",
       "      <td>23486.000000</td>\n",
       "      <td>23486.000000</td>\n",
       "      <td>23486.000000</td>\n",
       "      <td>23486.000000</td>\n",
       "    </tr>\n",
       "    <tr>\n",
       "      <th>mean</th>\n",
       "      <td>11742.500000</td>\n",
       "      <td>918.118709</td>\n",
       "      <td>43.198544</td>\n",
       "      <td>4.196032</td>\n",
       "      <td>0.822362</td>\n",
       "      <td>2.535936</td>\n",
       "    </tr>\n",
       "    <tr>\n",
       "      <th>std</th>\n",
       "      <td>6779.968547</td>\n",
       "      <td>203.298980</td>\n",
       "      <td>12.279544</td>\n",
       "      <td>1.110031</td>\n",
       "      <td>0.382216</td>\n",
       "      <td>5.702202</td>\n",
       "    </tr>\n",
       "    <tr>\n",
       "      <th>min</th>\n",
       "      <td>0.000000</td>\n",
       "      <td>0.000000</td>\n",
       "      <td>18.000000</td>\n",
       "      <td>1.000000</td>\n",
       "      <td>0.000000</td>\n",
       "      <td>0.000000</td>\n",
       "    </tr>\n",
       "    <tr>\n",
       "      <th>25%</th>\n",
       "      <td>5871.250000</td>\n",
       "      <td>861.000000</td>\n",
       "      <td>34.000000</td>\n",
       "      <td>4.000000</td>\n",
       "      <td>1.000000</td>\n",
       "      <td>0.000000</td>\n",
       "    </tr>\n",
       "    <tr>\n",
       "      <th>50%</th>\n",
       "      <td>11742.500000</td>\n",
       "      <td>936.000000</td>\n",
       "      <td>41.000000</td>\n",
       "      <td>5.000000</td>\n",
       "      <td>1.000000</td>\n",
       "      <td>1.000000</td>\n",
       "    </tr>\n",
       "    <tr>\n",
       "      <th>75%</th>\n",
       "      <td>17613.750000</td>\n",
       "      <td>1078.000000</td>\n",
       "      <td>52.000000</td>\n",
       "      <td>5.000000</td>\n",
       "      <td>1.000000</td>\n",
       "      <td>3.000000</td>\n",
       "    </tr>\n",
       "    <tr>\n",
       "      <th>max</th>\n",
       "      <td>23485.000000</td>\n",
       "      <td>1205.000000</td>\n",
       "      <td>99.000000</td>\n",
       "      <td>5.000000</td>\n",
       "      <td>1.000000</td>\n",
       "      <td>122.000000</td>\n",
       "    </tr>\n",
       "  </tbody>\n",
       "</table>\n",
       "</div>"
      ],
      "text/plain": [
       "         Unnamed: 0   Clothing ID           Age        Rating  \\\n",
       "count  23486.000000  23486.000000  23486.000000  23486.000000   \n",
       "mean   11742.500000    918.118709     43.198544      4.196032   \n",
       "std     6779.968547    203.298980     12.279544      1.110031   \n",
       "min        0.000000      0.000000     18.000000      1.000000   \n",
       "25%     5871.250000    861.000000     34.000000      4.000000   \n",
       "50%    11742.500000    936.000000     41.000000      5.000000   \n",
       "75%    17613.750000   1078.000000     52.000000      5.000000   \n",
       "max    23485.000000   1205.000000     99.000000      5.000000   \n",
       "\n",
       "       Recommended IND  Positive Feedback Count  \n",
       "count     23486.000000             23486.000000  \n",
       "mean          0.822362                 2.535936  \n",
       "std           0.382216                 5.702202  \n",
       "min           0.000000                 0.000000  \n",
       "25%           1.000000                 0.000000  \n",
       "50%           1.000000                 1.000000  \n",
       "75%           1.000000                 3.000000  \n",
       "max           1.000000               122.000000  "
      ]
     },
     "execution_count": 6,
     "metadata": {},
     "output_type": "execute_result"
    }
   ],
   "source": [
    "data.describe()"
   ]
  },
  {
   "cell_type": "code",
   "execution_count": 7,
   "id": "51b3a9b3",
   "metadata": {
    "execution": {
     "iopub.execute_input": "2022-06-20T12:22:35.707698Z",
     "iopub.status.busy": "2022-06-20T12:22:35.707243Z",
     "iopub.status.idle": "2022-06-20T12:22:35.730487Z",
     "shell.execute_reply": "2022-06-20T12:22:35.729363Z"
    },
    "papermill": {
     "duration": 0.042768,
     "end_time": "2022-06-20T12:22:35.732734",
     "exception": false,
     "start_time": "2022-06-20T12:22:35.689966",
     "status": "completed"
    },
    "tags": []
   },
   "outputs": [
    {
     "data": {
      "text/plain": [
       "Unnamed: 0                    0\n",
       "Clothing ID                   0\n",
       "Age                           0\n",
       "Title                      3810\n",
       "Review Text                 845\n",
       "Rating                        0\n",
       "Recommended IND               0\n",
       "Positive Feedback Count       0\n",
       "Division Name                14\n",
       "Department Name              14\n",
       "Class Name                   14\n",
       "dtype: int64"
      ]
     },
     "execution_count": 7,
     "metadata": {},
     "output_type": "execute_result"
    }
   ],
   "source": [
    "data.isnull().sum()"
   ]
  },
  {
   "cell_type": "code",
   "execution_count": 8,
   "id": "a1ea259c",
   "metadata": {
    "execution": {
     "iopub.execute_input": "2022-06-20T12:22:35.766417Z",
     "iopub.status.busy": "2022-06-20T12:22:35.765988Z",
     "iopub.status.idle": "2022-06-20T12:22:35.777334Z",
     "shell.execute_reply": "2022-06-20T12:22:35.776377Z"
    },
    "papermill": {
     "duration": 0.030662,
     "end_time": "2022-06-20T12:22:35.779451",
     "exception": false,
     "start_time": "2022-06-20T12:22:35.748789",
     "status": "completed"
    },
    "tags": []
   },
   "outputs": [
    {
     "data": {
      "text/plain": [
       "Rating  Recommended IND\n",
       "1       0                    826\n",
       "        1                     16\n",
       "2       0                   1471\n",
       "        1                     94\n",
       "3       0                   1682\n",
       "        1                   1189\n",
       "4       0                    168\n",
       "        1                   4909\n",
       "5       0                     25\n",
       "        1                  13106\n",
       "Name: Recommended IND, dtype: int64"
      ]
     },
     "execution_count": 8,
     "metadata": {},
     "output_type": "execute_result"
    }
   ],
   "source": [
    "data.groupby(['Rating', 'Recommended IND'])['Recommended IND'].count()"
   ]
  },
  {
   "cell_type": "code",
   "execution_count": 9,
   "id": "184e0f91",
   "metadata": {
    "execution": {
     "iopub.execute_input": "2022-06-20T12:22:35.814843Z",
     "iopub.status.busy": "2022-06-20T12:22:35.814113Z",
     "iopub.status.idle": "2022-06-20T12:22:35.827064Z",
     "shell.execute_reply": "2022-06-20T12:22:35.826366Z"
    },
    "papermill": {
     "duration": 0.033313,
     "end_time": "2022-06-20T12:22:35.829138",
     "exception": false,
     "start_time": "2022-06-20T12:22:35.795825",
     "status": "completed"
    },
    "tags": []
   },
   "outputs": [
    {
     "data": {
      "text/html": [
       "<div>\n",
       "<style scoped>\n",
       "    .dataframe tbody tr th:only-of-type {\n",
       "        vertical-align: middle;\n",
       "    }\n",
       "\n",
       "    .dataframe tbody tr th {\n",
       "        vertical-align: top;\n",
       "    }\n",
       "\n",
       "    .dataframe thead th {\n",
       "        text-align: right;\n",
       "    }\n",
       "</style>\n",
       "<table border=\"1\" class=\"dataframe\">\n",
       "  <thead>\n",
       "    <tr style=\"text-align: right;\">\n",
       "      <th></th>\n",
       "      <th>Title</th>\n",
       "      <th>Review Text</th>\n",
       "      <th>Recommended IND</th>\n",
       "    </tr>\n",
       "  </thead>\n",
       "  <tbody>\n",
       "    <tr>\n",
       "      <th>0</th>\n",
       "      <td>NaN</td>\n",
       "      <td>Absolutely wonderful - silky and sexy and comf...</td>\n",
       "      <td>1</td>\n",
       "    </tr>\n",
       "    <tr>\n",
       "      <th>1</th>\n",
       "      <td>NaN</td>\n",
       "      <td>Love this dress!  it's sooo pretty.  i happene...</td>\n",
       "      <td>1</td>\n",
       "    </tr>\n",
       "    <tr>\n",
       "      <th>2</th>\n",
       "      <td>Some major design flaws</td>\n",
       "      <td>I had such high hopes for this dress and reall...</td>\n",
       "      <td>0</td>\n",
       "    </tr>\n",
       "    <tr>\n",
       "      <th>3</th>\n",
       "      <td>My favorite buy!</td>\n",
       "      <td>I love, love, love this jumpsuit. it's fun, fl...</td>\n",
       "      <td>1</td>\n",
       "    </tr>\n",
       "    <tr>\n",
       "      <th>4</th>\n",
       "      <td>Flattering shirt</td>\n",
       "      <td>This shirt is very flattering to all due to th...</td>\n",
       "      <td>1</td>\n",
       "    </tr>\n",
       "  </tbody>\n",
       "</table>\n",
       "</div>"
      ],
      "text/plain": [
       "                     Title                                        Review Text  \\\n",
       "0                      NaN  Absolutely wonderful - silky and sexy and comf...   \n",
       "1                      NaN  Love this dress!  it's sooo pretty.  i happene...   \n",
       "2  Some major design flaws  I had such high hopes for this dress and reall...   \n",
       "3         My favorite buy!  I love, love, love this jumpsuit. it's fun, fl...   \n",
       "4         Flattering shirt  This shirt is very flattering to all due to th...   \n",
       "\n",
       "   Recommended IND  \n",
       "0                1  \n",
       "1                1  \n",
       "2                0  \n",
       "3                1  \n",
       "4                1  "
      ]
     },
     "execution_count": 9,
     "metadata": {},
     "output_type": "execute_result"
    }
   ],
   "source": [
    "df = data[['Title', 'Review Text', 'Recommended IND']]\n",
    "df.head()"
   ]
  },
  {
   "cell_type": "code",
   "execution_count": 10,
   "id": "8759c01e",
   "metadata": {
    "execution": {
     "iopub.execute_input": "2022-06-20T12:22:35.864547Z",
     "iopub.status.busy": "2022-06-20T12:22:35.864103Z",
     "iopub.status.idle": "2022-06-20T12:22:35.870345Z",
     "shell.execute_reply": "2022-06-20T12:22:35.869367Z"
    },
    "papermill": {
     "duration": 0.026623,
     "end_time": "2022-06-20T12:22:35.872754",
     "exception": false,
     "start_time": "2022-06-20T12:22:35.846131",
     "status": "completed"
    },
    "tags": []
   },
   "outputs": [],
   "source": [
    "df = df.rename(columns={\"Recommended IND\": \"Recommended\"})"
   ]
  },
  {
   "cell_type": "code",
   "execution_count": 11,
   "id": "be662e01",
   "metadata": {
    "execution": {
     "iopub.execute_input": "2022-06-20T12:22:35.908288Z",
     "iopub.status.busy": "2022-06-20T12:22:35.907832Z",
     "iopub.status.idle": "2022-06-20T12:22:35.942345Z",
     "shell.execute_reply": "2022-06-20T12:22:35.941329Z"
    },
    "papermill": {
     "duration": 0.054706,
     "end_time": "2022-06-20T12:22:35.944653",
     "exception": false,
     "start_time": "2022-06-20T12:22:35.889947",
     "status": "completed"
    },
    "tags": []
   },
   "outputs": [],
   "source": [
    "df['Review'] = df['Title'] + ' ' + df['Review Text']\n",
    "df = df.drop(labels=['Title','Review Text'] , axis=1)"
   ]
  },
  {
   "cell_type": "code",
   "execution_count": 12,
   "id": "9bc930dd",
   "metadata": {
    "execution": {
     "iopub.execute_input": "2022-06-20T12:22:35.980273Z",
     "iopub.status.busy": "2022-06-20T12:22:35.979825Z",
     "iopub.status.idle": "2022-06-20T12:22:35.990314Z",
     "shell.execute_reply": "2022-06-20T12:22:35.989367Z"
    },
    "papermill": {
     "duration": 0.031373,
     "end_time": "2022-06-20T12:22:35.992403",
     "exception": false,
     "start_time": "2022-06-20T12:22:35.961030",
     "status": "completed"
    },
    "tags": []
   },
   "outputs": [
    {
     "data": {
      "text/html": [
       "<div>\n",
       "<style scoped>\n",
       "    .dataframe tbody tr th:only-of-type {\n",
       "        vertical-align: middle;\n",
       "    }\n",
       "\n",
       "    .dataframe tbody tr th {\n",
       "        vertical-align: top;\n",
       "    }\n",
       "\n",
       "    .dataframe thead th {\n",
       "        text-align: right;\n",
       "    }\n",
       "</style>\n",
       "<table border=\"1\" class=\"dataframe\">\n",
       "  <thead>\n",
       "    <tr style=\"text-align: right;\">\n",
       "      <th></th>\n",
       "      <th>Recommended</th>\n",
       "      <th>Review</th>\n",
       "    </tr>\n",
       "  </thead>\n",
       "  <tbody>\n",
       "    <tr>\n",
       "      <th>0</th>\n",
       "      <td>1</td>\n",
       "      <td>NaN</td>\n",
       "    </tr>\n",
       "    <tr>\n",
       "      <th>1</th>\n",
       "      <td>1</td>\n",
       "      <td>NaN</td>\n",
       "    </tr>\n",
       "    <tr>\n",
       "      <th>2</th>\n",
       "      <td>0</td>\n",
       "      <td>Some major design flaws I had such high hopes ...</td>\n",
       "    </tr>\n",
       "    <tr>\n",
       "      <th>3</th>\n",
       "      <td>1</td>\n",
       "      <td>My favorite buy! I love, love, love this jumps...</td>\n",
       "    </tr>\n",
       "    <tr>\n",
       "      <th>4</th>\n",
       "      <td>1</td>\n",
       "      <td>Flattering shirt This shirt is very flattering...</td>\n",
       "    </tr>\n",
       "  </tbody>\n",
       "</table>\n",
       "</div>"
      ],
      "text/plain": [
       "   Recommended                                             Review\n",
       "0            1                                                NaN\n",
       "1            1                                                NaN\n",
       "2            0  Some major design flaws I had such high hopes ...\n",
       "3            1  My favorite buy! I love, love, love this jumps...\n",
       "4            1  Flattering shirt This shirt is very flattering..."
      ]
     },
     "execution_count": 12,
     "metadata": {},
     "output_type": "execute_result"
    }
   ],
   "source": [
    "df.head()"
   ]
  },
  {
   "cell_type": "code",
   "execution_count": 13,
   "id": "49fcbc01",
   "metadata": {
    "execution": {
     "iopub.execute_input": "2022-06-20T12:22:36.027526Z",
     "iopub.status.busy": "2022-06-20T12:22:36.027017Z",
     "iopub.status.idle": "2022-06-20T12:22:36.033295Z",
     "shell.execute_reply": "2022-06-20T12:22:36.032330Z"
    },
    "papermill": {
     "duration": 0.026377,
     "end_time": "2022-06-20T12:22:36.035405",
     "exception": false,
     "start_time": "2022-06-20T12:22:36.009028",
     "status": "completed"
    },
    "tags": []
   },
   "outputs": [
    {
     "data": {
      "text/plain": [
       "(23486, 2)"
      ]
     },
     "execution_count": 13,
     "metadata": {},
     "output_type": "execute_result"
    }
   ],
   "source": [
    "df.shape"
   ]
  },
  {
   "cell_type": "code",
   "execution_count": 14,
   "id": "291d19d8",
   "metadata": {
    "execution": {
     "iopub.execute_input": "2022-06-20T12:22:36.072339Z",
     "iopub.status.busy": "2022-06-20T12:22:36.071815Z",
     "iopub.status.idle": "2022-06-20T12:22:36.095712Z",
     "shell.execute_reply": "2022-06-20T12:22:36.094369Z"
    },
    "papermill": {
     "duration": 0.045195,
     "end_time": "2022-06-20T12:22:36.097952",
     "exception": false,
     "start_time": "2022-06-20T12:22:36.052757",
     "status": "completed"
    },
    "tags": []
   },
   "outputs": [
    {
     "name": "stdout",
     "output_type": "stream",
     "text": [
      "Before dropping duplicates:  (23486, 2)\n",
      "After dropping:  (19673, 2)\n"
     ]
    }
   ],
   "source": [
    "print(\"Before dropping duplicates: \",df.shape)\n",
    "df.drop_duplicates(inplace = True)\n",
    "print(\"After dropping: \",df.shape)"
   ]
  },
  {
   "cell_type": "code",
   "execution_count": 15,
   "id": "f294f764",
   "metadata": {
    "execution": {
     "iopub.execute_input": "2022-06-20T12:22:36.134579Z",
     "iopub.status.busy": "2022-06-20T12:22:36.133457Z",
     "iopub.status.idle": "2022-06-20T12:22:36.146281Z",
     "shell.execute_reply": "2022-06-20T12:22:36.145336Z"
    },
    "papermill": {
     "duration": 0.033004,
     "end_time": "2022-06-20T12:22:36.148432",
     "exception": false,
     "start_time": "2022-06-20T12:22:36.115428",
     "status": "completed"
    },
    "tags": []
   },
   "outputs": [
    {
     "data": {
      "text/plain": [
       "Recommended    0\n",
       "Review         2\n",
       "dtype: int64"
      ]
     },
     "execution_count": 15,
     "metadata": {},
     "output_type": "execute_result"
    }
   ],
   "source": [
    "df.isnull().sum()"
   ]
  },
  {
   "cell_type": "code",
   "execution_count": 16,
   "id": "c7386cf1",
   "metadata": {
    "execution": {
     "iopub.execute_input": "2022-06-20T12:22:36.185714Z",
     "iopub.status.busy": "2022-06-20T12:22:36.185334Z",
     "iopub.status.idle": "2022-06-20T12:22:36.198220Z",
     "shell.execute_reply": "2022-06-20T12:22:36.197334Z"
    },
    "papermill": {
     "duration": 0.033566,
     "end_time": "2022-06-20T12:22:36.200255",
     "exception": false,
     "start_time": "2022-06-20T12:22:36.166689",
     "status": "completed"
    },
    "tags": []
   },
   "outputs": [
    {
     "name": "stdout",
     "output_type": "stream",
     "text": [
      "After dropping NaN text_df:  (19671, 2)\n"
     ]
    }
   ],
   "source": [
    "df.dropna(inplace=True)\n",
    "print(\"After dropping NaN text_df: \",df.shape)"
   ]
  },
  {
   "cell_type": "code",
   "execution_count": 17,
   "id": "135af33a",
   "metadata": {
    "execution": {
     "iopub.execute_input": "2022-06-20T12:22:36.236368Z",
     "iopub.status.busy": "2022-06-20T12:22:36.235956Z",
     "iopub.status.idle": "2022-06-20T12:22:36.246454Z",
     "shell.execute_reply": "2022-06-20T12:22:36.245323Z"
    },
    "papermill": {
     "duration": 0.031324,
     "end_time": "2022-06-20T12:22:36.248717",
     "exception": false,
     "start_time": "2022-06-20T12:22:36.217393",
     "status": "completed"
    },
    "tags": []
   },
   "outputs": [
    {
     "data": {
      "text/html": [
       "<div>\n",
       "<style scoped>\n",
       "    .dataframe tbody tr th:only-of-type {\n",
       "        vertical-align: middle;\n",
       "    }\n",
       "\n",
       "    .dataframe tbody tr th {\n",
       "        vertical-align: top;\n",
       "    }\n",
       "\n",
       "    .dataframe thead th {\n",
       "        text-align: right;\n",
       "    }\n",
       "</style>\n",
       "<table border=\"1\" class=\"dataframe\">\n",
       "  <thead>\n",
       "    <tr style=\"text-align: right;\">\n",
       "      <th></th>\n",
       "      <th>Recommended</th>\n",
       "      <th>Review</th>\n",
       "    </tr>\n",
       "  </thead>\n",
       "  <tbody>\n",
       "    <tr>\n",
       "      <th>2</th>\n",
       "      <td>0</td>\n",
       "      <td>Some major design flaws I had such high hopes ...</td>\n",
       "    </tr>\n",
       "    <tr>\n",
       "      <th>3</th>\n",
       "      <td>1</td>\n",
       "      <td>My favorite buy! I love, love, love this jumps...</td>\n",
       "    </tr>\n",
       "    <tr>\n",
       "      <th>4</th>\n",
       "      <td>1</td>\n",
       "      <td>Flattering shirt This shirt is very flattering...</td>\n",
       "    </tr>\n",
       "    <tr>\n",
       "      <th>5</th>\n",
       "      <td>0</td>\n",
       "      <td>Not for the very petite I love tracy reese dre...</td>\n",
       "    </tr>\n",
       "    <tr>\n",
       "      <th>6</th>\n",
       "      <td>1</td>\n",
       "      <td>Cagrcoal shimmer fun I aded this in my basket ...</td>\n",
       "    </tr>\n",
       "  </tbody>\n",
       "</table>\n",
       "</div>"
      ],
      "text/plain": [
       "   Recommended                                             Review\n",
       "2            0  Some major design flaws I had such high hopes ...\n",
       "3            1  My favorite buy! I love, love, love this jumps...\n",
       "4            1  Flattering shirt This shirt is very flattering...\n",
       "5            0  Not for the very petite I love tracy reese dre...\n",
       "6            1  Cagrcoal shimmer fun I aded this in my basket ..."
      ]
     },
     "execution_count": 17,
     "metadata": {},
     "output_type": "execute_result"
    }
   ],
   "source": [
    "df.head()"
   ]
  },
  {
   "cell_type": "code",
   "execution_count": 18,
   "id": "8863138a",
   "metadata": {
    "execution": {
     "iopub.execute_input": "2022-06-20T12:22:36.285391Z",
     "iopub.status.busy": "2022-06-20T12:22:36.284863Z",
     "iopub.status.idle": "2022-06-20T12:22:36.294195Z",
     "shell.execute_reply": "2022-06-20T12:22:36.293427Z"
    },
    "papermill": {
     "duration": 0.029868,
     "end_time": "2022-06-20T12:22:36.296210",
     "exception": false,
     "start_time": "2022-06-20T12:22:36.266342",
     "status": "completed"
    },
    "tags": []
   },
   "outputs": [
    {
     "data": {
      "text/plain": [
       "1    16096\n",
       "0     3575\n",
       "Name: Recommended, dtype: int64"
      ]
     },
     "execution_count": 18,
     "metadata": {},
     "output_type": "execute_result"
    }
   ],
   "source": [
    "df['Recommended'].value_counts()"
   ]
  },
  {
   "cell_type": "code",
   "execution_count": 19,
   "id": "5da5c3a9",
   "metadata": {
    "execution": {
     "iopub.execute_input": "2022-06-20T12:22:36.332991Z",
     "iopub.status.busy": "2022-06-20T12:22:36.332036Z",
     "iopub.status.idle": "2022-06-20T12:22:36.649679Z",
     "shell.execute_reply": "2022-06-20T12:22:36.648438Z"
    },
    "papermill": {
     "duration": 0.338938,
     "end_time": "2022-06-20T12:22:36.652593",
     "exception": false,
     "start_time": "2022-06-20T12:22:36.313655",
     "status": "completed"
    },
    "tags": []
   },
   "outputs": [
    {
     "data": {
      "text/plain": [
       "<AxesSubplot:ylabel='Recommended'>"
      ]
     },
     "execution_count": 19,
     "metadata": {},
     "output_type": "execute_result"
    },
    {
     "data": {
      "image/png": "[encoded data removed]",
      "text/plain": [
       "<Figure size 1080x432 with 2 Axes>"
      ]
     },
     "metadata": {
      "needs_background": "light"
     },
     "output_type": "display_data"
    }
   ],
   "source": [
    "plt.figure(figsize = (15, 6))\n",
    "plt.subplot(1, 2, 1)\n",
    "sns.countplot(x=df['Recommended'])\n",
    "plt.subplot(1, 2, 2)\n",
    "df['Recommended'].value_counts().plot.pie(y='Class')"
   ]
  },
  {
   "cell_type": "code",
   "execution_count": 20,
   "id": "dac2ac68",
   "metadata": {
    "execution": {
     "iopub.execute_input": "2022-06-20T12:22:36.698514Z",
     "iopub.status.busy": "2022-06-20T12:22:36.698088Z",
     "iopub.status.idle": "2022-06-20T12:22:36.825322Z",
     "shell.execute_reply": "2022-06-20T12:22:36.824266Z"
    },
    "papermill": {
     "duration": 0.152129,
     "end_time": "2022-06-20T12:22:36.827911",
     "exception": false,
     "start_time": "2022-06-20T12:22:36.675782",
     "status": "completed"
    },
    "tags": []
   },
   "outputs": [],
   "source": [
    "from sklearn.utils import resample\n",
    "\n",
    "#create two different dataframe of majority and minority class \n",
    "df_majority = df[(df['Recommended']==1)] \n",
    "df_minority = df[(df['Recommended']==0)] \n",
    "\n",
    "# upsample minority class\n",
    "df_minority_upsampled = resample(df_minority, \n",
    "                                 replace=True,    # sample with replacement\n",
    "                                 n_samples=15539 , # to match majority class\n",
    "                                 random_state=42)  # reproducible results\n",
    "                                 \n",
    "# Combine majority class with upsampled minority class\n",
    "df_upsampled = pd.concat([df_minority_upsampled, df_majority])"
   ]
  },
  {
   "cell_type": "code",
   "execution_count": 21,
   "id": "a152c7ea",
   "metadata": {
    "execution": {
     "iopub.execute_input": "2022-06-20T12:22:36.867355Z",
     "iopub.status.busy": "2022-06-20T12:22:36.866907Z",
     "iopub.status.idle": "2022-06-20T12:22:36.880429Z",
     "shell.execute_reply": "2022-06-20T12:22:36.879230Z"
    },
    "papermill": {
     "duration": 0.035686,
     "end_time": "2022-06-20T12:22:36.882598",
     "exception": false,
     "start_time": "2022-06-20T12:22:36.846912",
     "status": "completed"
    },
    "tags": []
   },
   "outputs": [
    {
     "data": {
      "text/html": [
       "<div>\n",
       "<style scoped>\n",
       "    .dataframe tbody tr th:only-of-type {\n",
       "        vertical-align: middle;\n",
       "    }\n",
       "\n",
       "    .dataframe tbody tr th {\n",
       "        vertical-align: top;\n",
       "    }\n",
       "\n",
       "    .dataframe thead th {\n",
       "        text-align: right;\n",
       "    }\n",
       "</style>\n",
       "<table border=\"1\" class=\"dataframe\">\n",
       "  <thead>\n",
       "    <tr style=\"text-align: right;\">\n",
       "      <th></th>\n",
       "      <th>Recommended</th>\n",
       "      <th>Review</th>\n",
       "    </tr>\n",
       "  </thead>\n",
       "  <tbody>\n",
       "    <tr>\n",
       "      <th>20700</th>\n",
       "      <td>0</td>\n",
       "      <td>Very large; lace is kinda coarse Thought i'd l...</td>\n",
       "    </tr>\n",
       "    <tr>\n",
       "      <th>23020</th>\n",
       "      <td>0</td>\n",
       "      <td>Way too much fabric I wanted to love this jump...</td>\n",
       "    </tr>\n",
       "    <tr>\n",
       "      <th>5625</th>\n",
       "      <td>0</td>\n",
       "      <td>So surprised by the poor quality I loved the l...</td>\n",
       "    </tr>\n",
       "    <tr>\n",
       "      <th>8695</th>\n",
       "      <td>0</td>\n",
       "      <td>Runs large I so wanted to love this tank, and ...</td>\n",
       "    </tr>\n",
       "    <tr>\n",
       "      <th>7689</th>\n",
       "      <td>0</td>\n",
       "      <td>If you have a chest, beware I got this top in ...</td>\n",
       "    </tr>\n",
       "    <tr>\n",
       "      <th>...</th>\n",
       "      <td>...</td>\n",
       "      <td>...</td>\n",
       "    </tr>\n",
       "    <tr>\n",
       "      <th>23479</th>\n",
       "      <td>1</td>\n",
       "      <td>What a fun piece! So i wasn't sure about order...</td>\n",
       "    </tr>\n",
       "    <tr>\n",
       "      <th>23481</th>\n",
       "      <td>1</td>\n",
       "      <td>Great dress for many occasions I was very happ...</td>\n",
       "    </tr>\n",
       "    <tr>\n",
       "      <th>23482</th>\n",
       "      <td>1</td>\n",
       "      <td>Wish it was made of cotton It reminds me of ma...</td>\n",
       "    </tr>\n",
       "    <tr>\n",
       "      <th>23484</th>\n",
       "      <td>1</td>\n",
       "      <td>Very cute dress, perfect for summer parties an...</td>\n",
       "    </tr>\n",
       "    <tr>\n",
       "      <th>23485</th>\n",
       "      <td>1</td>\n",
       "      <td>Please make more like this one! This dress in ...</td>\n",
       "    </tr>\n",
       "  </tbody>\n",
       "</table>\n",
       "<p>31635 rows × 2 columns</p>\n",
       "</div>"
      ],
      "text/plain": [
       "       Recommended                                             Review\n",
       "20700            0  Very large; lace is kinda coarse Thought i'd l...\n",
       "23020            0  Way too much fabric I wanted to love this jump...\n",
       "5625             0  So surprised by the poor quality I loved the l...\n",
       "8695             0  Runs large I so wanted to love this tank, and ...\n",
       "7689             0  If you have a chest, beware I got this top in ...\n",
       "...            ...                                                ...\n",
       "23479            1  What a fun piece! So i wasn't sure about order...\n",
       "23481            1  Great dress for many occasions I was very happ...\n",
       "23482            1  Wish it was made of cotton It reminds me of ma...\n",
       "23484            1  Very cute dress, perfect for summer parties an...\n",
       "23485            1  Please make more like this one! This dress in ...\n",
       "\n",
       "[31635 rows x 2 columns]"
      ]
     },
     "execution_count": 21,
     "metadata": {},
     "output_type": "execute_result"
    }
   ],
   "source": [
    "df_upsampled"
   ]
  },
  {
   "cell_type": "code",
   "execution_count": 22,
   "id": "08f03b7d",
   "metadata": {
    "execution": {
     "iopub.execute_input": "2022-06-20T12:22:36.922493Z",
     "iopub.status.busy": "2022-06-20T12:22:36.921870Z",
     "iopub.status.idle": "2022-06-20T12:22:37.172983Z",
     "shell.execute_reply": "2022-06-20T12:22:37.172216Z"
    },
    "papermill": {
     "duration": 0.273654,
     "end_time": "2022-06-20T12:22:37.175408",
     "exception": false,
     "start_time": "2022-06-20T12:22:36.901754",
     "status": "completed"
    },
    "tags": []
   },
   "outputs": [
    {
     "data": {
      "text/plain": [
       "<AxesSubplot:ylabel='Recommended'>"
      ]
     },
     "execution_count": 22,
     "metadata": {},
     "output_type": "execute_result"
    },
    {
     "data": {
      "image/png": "[encoded data removed]",
      "text/plain": [
       "<Figure size 1080x432 with 2 Axes>"
      ]
     },
     "metadata": {
      "needs_background": "light"
     },
     "output_type": "display_data"
    }
   ],
   "source": [
    "plt.figure(figsize = (15, 6))\n",
    "plt.subplot(1, 2, 1)\n",
    "sns.countplot(x=df_upsampled['Recommended'])\n",
    "plt.subplot(1, 2, 2)\n",
    "df_upsampled['Recommended'].value_counts().plot.pie(y='Class')"
   ]
  },
  {
   "cell_type": "code",
   "execution_count": 23,
   "id": "eaf8aeec",
   "metadata": {
    "execution": {
     "iopub.execute_input": "2022-06-20T12:22:37.216180Z",
     "iopub.status.busy": "2022-06-20T12:22:37.215583Z",
     "iopub.status.idle": "2022-06-20T12:22:37.918828Z",
     "shell.execute_reply": "2022-06-20T12:22:37.918058Z"
    },
    "papermill": {
     "duration": 0.726528,
     "end_time": "2022-06-20T12:22:37.921330",
     "exception": false,
     "start_time": "2022-06-20T12:22:37.194802",
     "status": "completed"
    },
    "tags": []
   },
   "outputs": [],
   "source": [
    "import nltk"
   ]
  },
  {
   "cell_type": "code",
   "execution_count": 24,
   "id": "9ad436e5",
   "metadata": {
    "execution": {
     "iopub.execute_input": "2022-06-20T12:22:37.961744Z",
     "iopub.status.busy": "2022-06-20T12:22:37.961231Z",
     "iopub.status.idle": "2022-06-20T12:23:02.799427Z",
     "shell.execute_reply": "2022-06-20T12:23:02.798334Z"
    },
    "papermill": {
     "duration": 24.86147,
     "end_time": "2022-06-20T12:23:02.801896",
     "exception": false,
     "start_time": "2022-06-20T12:22:37.940426",
     "status": "completed"
    },
    "tags": []
   },
   "outputs": [
    {
     "data": {
      "text/html": [
       "<div>\n",
       "<style scoped>\n",
       "    .dataframe tbody tr th:only-of-type {\n",
       "        vertical-align: middle;\n",
       "    }\n",
       "\n",
       "    .dataframe tbody tr th {\n",
       "        vertical-align: top;\n",
       "    }\n",
       "\n",
       "    .dataframe thead th {\n",
       "        text-align: right;\n",
       "    }\n",
       "</style>\n",
       "<table border=\"1\" class=\"dataframe\">\n",
       "  <thead>\n",
       "    <tr style=\"text-align: right;\">\n",
       "      <th></th>\n",
       "      <th>Recommended</th>\n",
       "      <th>Review</th>\n",
       "      <th>num_characters</th>\n",
       "      <th>num_words</th>\n",
       "      <th>num_sentences</th>\n",
       "    </tr>\n",
       "  </thead>\n",
       "  <tbody>\n",
       "    <tr>\n",
       "      <th>20700</th>\n",
       "      <td>0</td>\n",
       "      <td>Very large; lace is kinda coarse Thought i'd l...</td>\n",
       "      <td>369</td>\n",
       "      <td>88</td>\n",
       "      <td>5</td>\n",
       "    </tr>\n",
       "    <tr>\n",
       "      <th>23020</th>\n",
       "      <td>0</td>\n",
       "      <td>Way too much fabric I wanted to love this jump...</td>\n",
       "      <td>519</td>\n",
       "      <td>120</td>\n",
       "      <td>8</td>\n",
       "    </tr>\n",
       "    <tr>\n",
       "      <th>5625</th>\n",
       "      <td>0</td>\n",
       "      <td>So surprised by the poor quality I loved the l...</td>\n",
       "      <td>294</td>\n",
       "      <td>58</td>\n",
       "      <td>4</td>\n",
       "    </tr>\n",
       "    <tr>\n",
       "      <th>8695</th>\n",
       "      <td>0</td>\n",
       "      <td>Runs large I so wanted to love this tank, and ...</td>\n",
       "      <td>436</td>\n",
       "      <td>106</td>\n",
       "      <td>5</td>\n",
       "    </tr>\n",
       "    <tr>\n",
       "      <th>7689</th>\n",
       "      <td>0</td>\n",
       "      <td>If you have a chest, beware I got this top in ...</td>\n",
       "      <td>415</td>\n",
       "      <td>96</td>\n",
       "      <td>4</td>\n",
       "    </tr>\n",
       "  </tbody>\n",
       "</table>\n",
       "</div>"
      ],
      "text/plain": [
       "       Recommended                                             Review  \\\n",
       "20700            0  Very large; lace is kinda coarse Thought i'd l...   \n",
       "23020            0  Way too much fabric I wanted to love this jump...   \n",
       "5625             0  So surprised by the poor quality I loved the l...   \n",
       "8695             0  Runs large I so wanted to love this tank, and ...   \n",
       "7689             0  If you have a chest, beware I got this top in ...   \n",
       "\n",
       "       num_characters  num_words  num_sentences  \n",
       "20700             369         88              5  \n",
       "23020             519        120              8  \n",
       "5625              294         58              4  \n",
       "8695              436        106              5  \n",
       "7689              415         96              4  "
      ]
     },
     "execution_count": 24,
     "metadata": {},
     "output_type": "execute_result"
    }
   ],
   "source": [
    "df_upsampled['num_characters'] = df['Review'].apply(len)\n",
    "# num of words\n",
    "df_upsampled['num_words'] = df['Review'].apply(lambda x:len(nltk.word_tokenize(x)))\n",
    "df_upsampled['num_sentences'] = df['Review'].apply(lambda x:len(nltk.sent_tokenize(x)))\n",
    "df_upsampled.head()"
   ]
  },
  {
   "cell_type": "code",
   "execution_count": 25,
   "id": "f77da5cd",
   "metadata": {
    "execution": {
     "iopub.execute_input": "2022-06-20T12:23:02.843706Z",
     "iopub.status.busy": "2022-06-20T12:23:02.842659Z",
     "iopub.status.idle": "2022-06-20T12:23:02.871264Z",
     "shell.execute_reply": "2022-06-20T12:23:02.870248Z"
    },
    "papermill": {
     "duration": 0.05223,
     "end_time": "2022-06-20T12:23:02.873540",
     "exception": false,
     "start_time": "2022-06-20T12:23:02.821310",
     "status": "completed"
    },
    "tags": []
   },
   "outputs": [
    {
     "data": {
      "text/html": [
       "<div>\n",
       "<style scoped>\n",
       "    .dataframe tbody tr th:only-of-type {\n",
       "        vertical-align: middle;\n",
       "    }\n",
       "\n",
       "    .dataframe tbody tr th {\n",
       "        vertical-align: top;\n",
       "    }\n",
       "\n",
       "    .dataframe thead th {\n",
       "        text-align: right;\n",
       "    }\n",
       "</style>\n",
       "<table border=\"1\" class=\"dataframe\">\n",
       "  <thead>\n",
       "    <tr style=\"text-align: right;\">\n",
       "      <th></th>\n",
       "      <th>num_characters</th>\n",
       "      <th>num_words</th>\n",
       "      <th>num_sentences</th>\n",
       "    </tr>\n",
       "  </thead>\n",
       "  <tbody>\n",
       "    <tr>\n",
       "      <th>count</th>\n",
       "      <td>15539.000000</td>\n",
       "      <td>15539.000000</td>\n",
       "      <td>15539.000000</td>\n",
       "    </tr>\n",
       "    <tr>\n",
       "      <th>mean</th>\n",
       "      <td>346.868975</td>\n",
       "      <td>76.776820</td>\n",
       "      <td>4.924319</td>\n",
       "    </tr>\n",
       "    <tr>\n",
       "      <th>std</th>\n",
       "      <td>139.556465</td>\n",
       "      <td>31.051587</td>\n",
       "      <td>2.112077</td>\n",
       "    </tr>\n",
       "    <tr>\n",
       "      <th>min</th>\n",
       "      <td>36.000000</td>\n",
       "      <td>7.000000</td>\n",
       "      <td>1.000000</td>\n",
       "    </tr>\n",
       "    <tr>\n",
       "      <th>25%</th>\n",
       "      <td>230.000000</td>\n",
       "      <td>51.000000</td>\n",
       "      <td>3.000000</td>\n",
       "    </tr>\n",
       "    <tr>\n",
       "      <th>50%</th>\n",
       "      <td>348.000000</td>\n",
       "      <td>77.000000</td>\n",
       "      <td>5.000000</td>\n",
       "    </tr>\n",
       "    <tr>\n",
       "      <th>75%</th>\n",
       "      <td>500.000000</td>\n",
       "      <td>107.000000</td>\n",
       "      <td>6.000000</td>\n",
       "    </tr>\n",
       "    <tr>\n",
       "      <th>max</th>\n",
       "      <td>557.000000</td>\n",
       "      <td>141.000000</td>\n",
       "      <td>16.000000</td>\n",
       "    </tr>\n",
       "  </tbody>\n",
       "</table>\n",
       "</div>"
      ],
      "text/plain": [
       "       num_characters     num_words  num_sentences\n",
       "count    15539.000000  15539.000000   15539.000000\n",
       "mean       346.868975     76.776820       4.924319\n",
       "std        139.556465     31.051587       2.112077\n",
       "min         36.000000      7.000000       1.000000\n",
       "25%        230.000000     51.000000       3.000000\n",
       "50%        348.000000     77.000000       5.000000\n",
       "75%        500.000000    107.000000       6.000000\n",
       "max        557.000000    141.000000      16.000000"
      ]
     },
     "execution_count": 25,
     "metadata": {},
     "output_type": "execute_result"
    }
   ],
   "source": [
    "df_upsampled[df_upsampled['Recommended'] == 0][['num_characters','num_words','num_sentences']].describe()"
   ]
  },
  {
   "cell_type": "code",
   "execution_count": 26,
   "id": "314adcd2",
   "metadata": {
    "execution": {
     "iopub.execute_input": "2022-06-20T12:23:02.916877Z",
     "iopub.status.busy": "2022-06-20T12:23:02.916114Z",
     "iopub.status.idle": "2022-06-20T12:23:02.942073Z",
     "shell.execute_reply": "2022-06-20T12:23:02.941268Z"
    },
    "papermill": {
     "duration": 0.051002,
     "end_time": "2022-06-20T12:23:02.944277",
     "exception": false,
     "start_time": "2022-06-20T12:23:02.893275",
     "status": "completed"
    },
    "tags": []
   },
   "outputs": [
    {
     "data": {
      "text/html": [
       "<div>\n",
       "<style scoped>\n",
       "    .dataframe tbody tr th:only-of-type {\n",
       "        vertical-align: middle;\n",
       "    }\n",
       "\n",
       "    .dataframe tbody tr th {\n",
       "        vertical-align: top;\n",
       "    }\n",
       "\n",
       "    .dataframe thead th {\n",
       "        text-align: right;\n",
       "    }\n",
       "</style>\n",
       "<table border=\"1\" class=\"dataframe\">\n",
       "  <thead>\n",
       "    <tr style=\"text-align: right;\">\n",
       "      <th></th>\n",
       "      <th>num_characters</th>\n",
       "      <th>num_words</th>\n",
       "      <th>num_sentences</th>\n",
       "    </tr>\n",
       "  </thead>\n",
       "  <tbody>\n",
       "    <tr>\n",
       "      <th>count</th>\n",
       "      <td>16096.000000</td>\n",
       "      <td>16096.000000</td>\n",
       "      <td>16096.000000</td>\n",
       "    </tr>\n",
       "    <tr>\n",
       "      <th>mean</th>\n",
       "      <td>336.342135</td>\n",
       "      <td>74.714463</td>\n",
       "      <td>5.202348</td>\n",
       "    </tr>\n",
       "    <tr>\n",
       "      <th>std</th>\n",
       "      <td>145.954982</td>\n",
       "      <td>32.856348</td>\n",
       "      <td>2.150936</td>\n",
       "    </tr>\n",
       "    <tr>\n",
       "      <th>min</th>\n",
       "      <td>23.000000</td>\n",
       "      <td>4.000000</td>\n",
       "      <td>1.000000</td>\n",
       "    </tr>\n",
       "    <tr>\n",
       "      <th>25%</th>\n",
       "      <td>213.000000</td>\n",
       "      <td>47.000000</td>\n",
       "      <td>4.000000</td>\n",
       "    </tr>\n",
       "    <tr>\n",
       "      <th>50%</th>\n",
       "      <td>332.000000</td>\n",
       "      <td>74.000000</td>\n",
       "      <td>5.000000</td>\n",
       "    </tr>\n",
       "    <tr>\n",
       "      <th>75%</th>\n",
       "      <td>495.000000</td>\n",
       "      <td>107.000000</td>\n",
       "      <td>7.000000</td>\n",
       "    </tr>\n",
       "    <tr>\n",
       "      <th>max</th>\n",
       "      <td>553.000000</td>\n",
       "      <td>137.000000</td>\n",
       "      <td>17.000000</td>\n",
       "    </tr>\n",
       "  </tbody>\n",
       "</table>\n",
       "</div>"
      ],
      "text/plain": [
       "       num_characters     num_words  num_sentences\n",
       "count    16096.000000  16096.000000   16096.000000\n",
       "mean       336.342135     74.714463       5.202348\n",
       "std        145.954982     32.856348       2.150936\n",
       "min         23.000000      4.000000       1.000000\n",
       "25%        213.000000     47.000000       4.000000\n",
       "50%        332.000000     74.000000       5.000000\n",
       "75%        495.000000    107.000000       7.000000\n",
       "max        553.000000    137.000000      17.000000"
      ]
     },
     "execution_count": 26,
     "metadata": {},
     "output_type": "execute_result"
    }
   ],
   "source": [
    "df_upsampled[df_upsampled['Recommended'] == 1][['num_characters','num_words','num_sentences']].describe()"
   ]
  },
  {
   "cell_type": "code",
   "execution_count": 27,
   "id": "126a00c4",
   "metadata": {
    "execution": {
     "iopub.execute_input": "2022-06-20T12:23:02.988149Z",
     "iopub.status.busy": "2022-06-20T12:23:02.987429Z",
     "iopub.status.idle": "2022-06-20T12:23:03.310360Z",
     "shell.execute_reply": "2022-06-20T12:23:03.309218Z"
    },
    "papermill": {
     "duration": 0.348537,
     "end_time": "2022-06-20T12:23:03.313349",
     "exception": false,
     "start_time": "2022-06-20T12:23:02.964812",
     "status": "completed"
    },
    "tags": []
   },
   "outputs": [
    {
     "data": {
      "text/plain": [
       "<AxesSubplot:>"
      ]
     },
     "execution_count": 27,
     "metadata": {},
     "output_type": "execute_result"
    },
    {
     "data": {
      "image/png": "[encoded data removed]",
      "text/plain": [
       "<Figure size 432x288 with 2 Axes>"
      ]
     },
     "metadata": {
      "needs_background": "light"
     },
     "output_type": "display_data"
    }
   ],
   "source": [
    "sns.heatmap(df_upsampled.corr(),annot=True)"
   ]
  },
  {
   "cell_type": "code",
   "execution_count": 28,
   "id": "cd8bdf23",
   "metadata": {
    "execution": {
     "iopub.execute_input": "2022-06-20T12:23:03.362001Z",
     "iopub.status.busy": "2022-06-20T12:23:03.361149Z",
     "iopub.status.idle": "2022-06-20T12:23:03.376003Z",
     "shell.execute_reply": "2022-06-20T12:23:03.375208Z"
    },
    "papermill": {
     "duration": 0.042763,
     "end_time": "2022-06-20T12:23:03.378410",
     "exception": false,
     "start_time": "2022-06-20T12:23:03.335647",
     "status": "completed"
    },
    "tags": []
   },
   "outputs": [],
   "source": [
    "import string\n",
    "from nltk.tokenize import word_tokenize\n",
    "from nltk.corpus import stopwords\n",
    "from nltk.stem import WordNetLemmatizer\n",
    "stop_words=stopwords.words(\"english\") "
   ]
  },
  {
   "cell_type": "code",
   "execution_count": 29,
   "id": "ea2a2ae3",
   "metadata": {
    "execution": {
     "iopub.execute_input": "2022-06-20T12:23:03.421923Z",
     "iopub.status.busy": "2022-06-20T12:23:03.421340Z",
     "iopub.status.idle": "2022-06-20T12:23:03.425984Z",
     "shell.execute_reply": "2022-06-20T12:23:03.425203Z"
    },
    "papermill": {
     "duration": 0.029325,
     "end_time": "2022-06-20T12:23:03.428253",
     "exception": false,
     "start_time": "2022-06-20T12:23:03.398928",
     "status": "completed"
    },
    "tags": []
   },
   "outputs": [],
   "source": [
    "from nltk.stem.porter import PorterStemmer\n",
    "ps = PorterStemmer()"
   ]
  },
  {
   "cell_type": "markdown",
   "id": "63f4d190",
   "metadata": {
    "papermill": {
     "duration": 0.021877,
     "end_time": "2022-06-20T12:23:03.472142",
     "exception": false,
     "start_time": "2022-06-20T12:23:03.450265",
     "status": "completed"
    },
    "tags": []
   },
   "source": [
    "# DATA  PREPROCESSING\n",
    "1.Lower case\n",
    "2.Tokanization\n",
    "3.Removing special characters\n",
    "4.Removing stopwords and punctuations\n",
    "5.Stemming"
   ]
  },
  {
   "cell_type": "code",
   "execution_count": 30,
   "id": "3bc6288a",
   "metadata": {
    "execution": {
     "iopub.execute_input": "2022-06-20T12:23:03.515851Z",
     "iopub.status.busy": "2022-06-20T12:23:03.515269Z",
     "iopub.status.idle": "2022-06-20T12:23:03.522888Z",
     "shell.execute_reply": "2022-06-20T12:23:03.522110Z"
    },
    "papermill": {
     "duration": 0.032313,
     "end_time": "2022-06-20T12:23:03.524865",
     "exception": false,
     "start_time": "2022-06-20T12:23:03.492552",
     "status": "completed"
    },
    "tags": []
   },
   "outputs": [],
   "source": [
    "def transform_text(text):\n",
    "    text = text.lower()\n",
    "    text = nltk.word_tokenize(text)\n",
    "    \n",
    "    y = []\n",
    "    for i in text:\n",
    "        if i.isalnum():\n",
    "            y.append(i)\n",
    "    \n",
    "    text = y[:]\n",
    "    y.clear()\n",
    "    \n",
    "    for i in text:\n",
    "        if i not in stopwords.words('english') and i not in string.punctuation:\n",
    "            y.append(i)\n",
    "            \n",
    "    text = y[:]\n",
    "    y.clear()\n",
    "    \n",
    "    for i in text:\n",
    "        y.append(ps.stem(i))\n",
    "    \n",
    "            \n",
    "    return \" \".join(y)"
   ]
  },
  {
   "cell_type": "code",
   "execution_count": 31,
   "id": "d32c9d5c",
   "metadata": {
    "execution": {
     "iopub.execute_input": "2022-06-20T12:23:03.568255Z",
     "iopub.status.busy": "2022-06-20T12:23:03.567812Z",
     "iopub.status.idle": "2022-06-20T12:28:58.170878Z",
     "shell.execute_reply": "2022-06-20T12:28:58.169863Z"
    },
    "papermill": {
     "duration": 354.646887,
     "end_time": "2022-06-20T12:28:58.193123",
     "exception": false,
     "start_time": "2022-06-20T12:23:03.546236",
     "status": "completed"
    },
    "tags": []
   },
   "outputs": [
    {
     "data": {
      "text/html": [
       "<div>\n",
       "<style scoped>\n",
       "    .dataframe tbody tr th:only-of-type {\n",
       "        vertical-align: middle;\n",
       "    }\n",
       "\n",
       "    .dataframe tbody tr th {\n",
       "        vertical-align: top;\n",
       "    }\n",
       "\n",
       "    .dataframe thead th {\n",
       "        text-align: right;\n",
       "    }\n",
       "</style>\n",
       "<table border=\"1\" class=\"dataframe\">\n",
       "  <thead>\n",
       "    <tr style=\"text-align: right;\">\n",
       "      <th></th>\n",
       "      <th>Recommended</th>\n",
       "      <th>Review</th>\n",
       "      <th>num_characters</th>\n",
       "      <th>num_words</th>\n",
       "      <th>num_sentences</th>\n",
       "      <th>transformed_text</th>\n",
       "    </tr>\n",
       "  </thead>\n",
       "  <tbody>\n",
       "    <tr>\n",
       "      <th>20700</th>\n",
       "      <td>0</td>\n",
       "      <td>Very large; lace is kinda coarse Thought i'd l...</td>\n",
       "      <td>369</td>\n",
       "      <td>88</td>\n",
       "      <td>5</td>\n",
       "      <td>larg lace kinda coars thought love top sucker ...</td>\n",
       "    </tr>\n",
       "    <tr>\n",
       "      <th>23020</th>\n",
       "      <td>0</td>\n",
       "      <td>Way too much fabric I wanted to love this jump...</td>\n",
       "      <td>519</td>\n",
       "      <td>120</td>\n",
       "      <td>8</td>\n",
       "      <td>way much fabric want love jumpsuit look ador p...</td>\n",
       "    </tr>\n",
       "    <tr>\n",
       "      <th>5625</th>\n",
       "      <td>0</td>\n",
       "      <td>So surprised by the poor quality I loved the l...</td>\n",
       "      <td>294</td>\n",
       "      <td>58</td>\n",
       "      <td>4</td>\n",
       "      <td>surpris poor qualiti love look sweater workman...</td>\n",
       "    </tr>\n",
       "    <tr>\n",
       "      <th>8695</th>\n",
       "      <td>0</td>\n",
       "      <td>Runs large I so wanted to love this tank, and ...</td>\n",
       "      <td>436</td>\n",
       "      <td>106</td>\n",
       "      <td>5</td>\n",
       "      <td>run larg want love tank excit get mail got siz...</td>\n",
       "    </tr>\n",
       "    <tr>\n",
       "      <th>7689</th>\n",
       "      <td>0</td>\n",
       "      <td>If you have a chest, beware I got this top in ...</td>\n",
       "      <td>415</td>\n",
       "      <td>96</td>\n",
       "      <td>4</td>\n",
       "      <td>chest bewar got top typic size medium want lov...</td>\n",
       "    </tr>\n",
       "  </tbody>\n",
       "</table>\n",
       "</div>"
      ],
      "text/plain": [
       "       Recommended                                             Review  \\\n",
       "20700            0  Very large; lace is kinda coarse Thought i'd l...   \n",
       "23020            0  Way too much fabric I wanted to love this jump...   \n",
       "5625             0  So surprised by the poor quality I loved the l...   \n",
       "8695             0  Runs large I so wanted to love this tank, and ...   \n",
       "7689             0  If you have a chest, beware I got this top in ...   \n",
       "\n",
       "       num_characters  num_words  num_sentences  \\\n",
       "20700             369         88              5   \n",
       "23020             519        120              8   \n",
       "5625              294         58              4   \n",
       "8695              436        106              5   \n",
       "7689              415         96              4   \n",
       "\n",
       "                                        transformed_text  \n",
       "20700  larg lace kinda coars thought love top sucker ...  \n",
       "23020  way much fabric want love jumpsuit look ador p...  \n",
       "5625   surpris poor qualiti love look sweater workman...  \n",
       "8695   run larg want love tank excit get mail got siz...  \n",
       "7689   chest bewar got top typic size medium want lov...  "
      ]
     },
     "execution_count": 31,
     "metadata": {},
     "output_type": "execute_result"
    }
   ],
   "source": [
    "df_upsampled['transformed_text'] = df_upsampled['Review'].apply(transform_text)\n",
    "df_upsampled.head()"
   ]
  },
  {
   "cell_type": "code",
   "execution_count": 32,
   "id": "d94767d7",
   "metadata": {
    "execution": {
     "iopub.execute_input": "2022-06-20T12:28:58.236667Z",
     "iopub.status.busy": "2022-06-20T12:28:58.236246Z",
     "iopub.status.idle": "2022-06-20T12:29:11.617276Z",
     "shell.execute_reply": "2022-06-20T12:29:11.615952Z"
    },
    "papermill": {
     "duration": 13.406674,
     "end_time": "2022-06-20T12:29:11.620083",
     "exception": false,
     "start_time": "2022-06-20T12:28:58.213409",
     "status": "completed"
    },
    "tags": []
   },
   "outputs": [
    {
     "data": {
      "text/html": [
       "<div>\n",
       "<style scoped>\n",
       "    .dataframe tbody tr th:only-of-type {\n",
       "        vertical-align: middle;\n",
       "    }\n",
       "\n",
       "    .dataframe tbody tr th {\n",
       "        vertical-align: top;\n",
       "    }\n",
       "\n",
       "    .dataframe thead th {\n",
       "        text-align: right;\n",
       "    }\n",
       "</style>\n",
       "<table border=\"1\" class=\"dataframe\">\n",
       "  <thead>\n",
       "    <tr style=\"text-align: right;\">\n",
       "      <th></th>\n",
       "      <th>Recommended</th>\n",
       "      <th>Review</th>\n",
       "      <th>num_characters</th>\n",
       "      <th>num_words</th>\n",
       "      <th>num_sentences</th>\n",
       "      <th>transformed_text</th>\n",
       "    </tr>\n",
       "  </thead>\n",
       "  <tbody>\n",
       "    <tr>\n",
       "      <th>20700</th>\n",
       "      <td>0</td>\n",
       "      <td>Very large; lace is kinda coarse Thought i'd l...</td>\n",
       "      <td>196</td>\n",
       "      <td>34</td>\n",
       "      <td>1</td>\n",
       "      <td>larg lace kinda coars thought love top sucker ...</td>\n",
       "    </tr>\n",
       "    <tr>\n",
       "      <th>23020</th>\n",
       "      <td>0</td>\n",
       "      <td>Way too much fabric I wanted to love this jump...</td>\n",
       "      <td>265</td>\n",
       "      <td>46</td>\n",
       "      <td>1</td>\n",
       "      <td>way much fabric want love jumpsuit look ador p...</td>\n",
       "    </tr>\n",
       "    <tr>\n",
       "      <th>5625</th>\n",
       "      <td>0</td>\n",
       "      <td>So surprised by the poor quality I loved the l...</td>\n",
       "      <td>172</td>\n",
       "      <td>25</td>\n",
       "      <td>1</td>\n",
       "      <td>surpris poor qualiti love look sweater workman...</td>\n",
       "    </tr>\n",
       "    <tr>\n",
       "      <th>8695</th>\n",
       "      <td>0</td>\n",
       "      <td>Runs large I so wanted to love this tank, and ...</td>\n",
       "      <td>223</td>\n",
       "      <td>42</td>\n",
       "      <td>1</td>\n",
       "      <td>run larg want love tank excit get mail got siz...</td>\n",
       "    </tr>\n",
       "    <tr>\n",
       "      <th>7689</th>\n",
       "      <td>0</td>\n",
       "      <td>If you have a chest, beware I got this top in ...</td>\n",
       "      <td>199</td>\n",
       "      <td>35</td>\n",
       "      <td>1</td>\n",
       "      <td>chest bewar got top typic size medium want lov...</td>\n",
       "    </tr>\n",
       "  </tbody>\n",
       "</table>\n",
       "</div>"
      ],
      "text/plain": [
       "       Recommended                                             Review  \\\n",
       "20700            0  Very large; lace is kinda coarse Thought i'd l...   \n",
       "23020            0  Way too much fabric I wanted to love this jump...   \n",
       "5625             0  So surprised by the poor quality I loved the l...   \n",
       "8695             0  Runs large I so wanted to love this tank, and ...   \n",
       "7689             0  If you have a chest, beware I got this top in ...   \n",
       "\n",
       "       num_characters  num_words  num_sentences  \\\n",
       "20700             196         34              1   \n",
       "23020             265         46              1   \n",
       "5625              172         25              1   \n",
       "8695              223         42              1   \n",
       "7689              199         35              1   \n",
       "\n",
       "                                        transformed_text  \n",
       "20700  larg lace kinda coars thought love top sucker ...  \n",
       "23020  way much fabric want love jumpsuit look ador p...  \n",
       "5625   surpris poor qualiti love look sweater workman...  \n",
       "8695   run larg want love tank excit get mail got siz...  \n",
       "7689   chest bewar got top typic size medium want lov...  "
      ]
     },
     "execution_count": 32,
     "metadata": {},
     "output_type": "execute_result"
    }
   ],
   "source": [
    "df_upsampled['num_characters'] = df_upsampled['transformed_text'].apply(len)\n",
    "# num of words\n",
    "df_upsampled['num_words'] = df_upsampled['transformed_text'].apply(lambda x:len(nltk.word_tokenize(x)))\n",
    "df_upsampled['num_sentences'] = df_upsampled['transformed_text'].apply(lambda x:len(nltk.sent_tokenize(x)))\n",
    "df_upsampled.head()"
   ]
  },
  {
   "cell_type": "code",
   "execution_count": 33,
   "id": "10f7cca4",
   "metadata": {
    "execution": {
     "iopub.execute_input": "2022-06-20T12:29:11.667355Z",
     "iopub.status.busy": "2022-06-20T12:29:11.666895Z",
     "iopub.status.idle": "2022-06-20T12:29:11.678615Z",
     "shell.execute_reply": "2022-06-20T12:29:11.677809Z"
    },
    "papermill": {
     "duration": 0.03905,
     "end_time": "2022-06-20T12:29:11.681365",
     "exception": false,
     "start_time": "2022-06-20T12:29:11.642315",
     "status": "completed"
    },
    "tags": []
   },
   "outputs": [
    {
     "data": {
      "text/plain": [
       "Tops        10468\n",
       "Dresses      6319\n",
       "Bottoms      3799\n",
       "Intimate     1735\n",
       "Jackets      1032\n",
       "Trend         119\n",
       "Name: Department Name, dtype: int64"
      ]
     },
     "execution_count": 33,
     "metadata": {},
     "output_type": "execute_result"
    }
   ],
   "source": [
    "data[\"Department Name\"].value_counts()"
   ]
  },
  {
   "cell_type": "code",
   "execution_count": 34,
   "id": "c38faade",
   "metadata": {
    "execution": {
     "iopub.execute_input": "2022-06-20T12:29:11.729646Z",
     "iopub.status.busy": "2022-06-20T12:29:11.728561Z",
     "iopub.status.idle": "2022-06-20T12:29:12.135810Z",
     "shell.execute_reply": "2022-06-20T12:29:12.134749Z"
    },
    "papermill": {
     "duration": 0.43389,
     "end_time": "2022-06-20T12:29:12.138199",
     "exception": false,
     "start_time": "2022-06-20T12:29:11.704309",
     "status": "completed"
    },
    "tags": []
   },
   "outputs": [
    {
     "data": {
      "image/png": "[encoded data removed]",
      "text/plain": [
       "<Figure size 1080x432 with 2 Axes>"
      ]
     },
     "metadata": {
      "needs_background": "light"
     },
     "output_type": "display_data"
    }
   ],
   "source": [
    "plt.figure(figsize = (15, 6))\n",
    "plt.subplot(1, 2, 1)\n",
    "sns.countplot(x = data['Department Name'], data = data)\n",
    "\n",
    "plt.subplot(1, 2, 2)\n",
    "plt.pie(x= data['Department Name'].value_counts(),labels=('Tops','Dresses',\"Bottoms\",\"Intimate\",\"Jackets\",\"Trend\") ,explode = (0, 0.08, 0.01,0.02,0.2,0.2), shadow = True, autopct = '%1.2f%%')\n",
    "\n",
    "plt.show()"
   ]
  },
  {
   "cell_type": "code",
   "execution_count": 35,
   "id": "2703b4a0",
   "metadata": {
    "execution": {
     "iopub.execute_input": "2022-06-20T12:29:12.184368Z",
     "iopub.status.busy": "2022-06-20T12:29:12.183746Z",
     "iopub.status.idle": "2022-06-20T12:29:12.629981Z",
     "shell.execute_reply": "2022-06-20T12:29:12.628703Z"
    },
    "papermill": {
     "duration": 0.472256,
     "end_time": "2022-06-20T12:29:12.632860",
     "exception": false,
     "start_time": "2022-06-20T12:29:12.160604",
     "status": "completed"
    },
    "tags": []
   },
   "outputs": [
    {
     "name": "stderr",
     "output_type": "stream",
     "text": [
      "/opt/conda/lib/python3.7/site-packages/seaborn/distributions.py:2619: FutureWarning: `distplot` is a deprecated function and will be removed in a future version. Please adapt your code to use either `displot` (a figure-level function with similar flexibility) or `histplot` (an axes-level function for histograms).\n",
      "  warnings.warn(msg, FutureWarning)\n"
     ]
    },
    {
     "data": {
      "text/plain": [
       "Text(0.5, 1.0, 'Age Distribution')"
      ]
     },
     "execution_count": 35,
     "metadata": {},
     "output_type": "execute_result"
    },
    {
     "data": {
      "image/png": "[encoded data removed]",
      "text/plain": [
       "<Figure size 1080x432 with 1 Axes>"
      ]
     },
     "metadata": {
      "needs_background": "light"
     },
     "output_type": "display_data"
    }
   ],
   "source": [
    "plt.figure(figsize = (15, 6))\n",
    "plt.subplot(1, 2, 1)\n",
    "plt.title = ('Age_distribution')\n",
    "sns.distplot(data['Age']).set_title(\"Age Distribution\")"
   ]
  },
  {
   "cell_type": "code",
   "execution_count": 36,
   "id": "24d6ac26",
   "metadata": {
    "execution": {
     "iopub.execute_input": "2022-06-20T12:29:12.681586Z",
     "iopub.status.busy": "2022-06-20T12:29:12.681160Z",
     "iopub.status.idle": "2022-06-20T12:29:13.662683Z",
     "shell.execute_reply": "2022-06-20T12:29:13.661524Z"
    },
    "papermill": {
     "duration": 1.007569,
     "end_time": "2022-06-20T12:29:13.665057",
     "exception": false,
     "start_time": "2022-06-20T12:29:12.657488",
     "status": "completed"
    },
    "tags": []
   },
   "outputs": [
    {
     "data": {
      "text/plain": [
       "<seaborn.axisgrid.FacetGrid at 0x7efe587b4290>"
      ]
     },
     "execution_count": 36,
     "metadata": {},
     "output_type": "execute_result"
    },
    {
     "data": {
      "image/png": "[encoded data removed]",
      "text/plain": [
       "<Figure size 463.875x360 with 1 Axes>"
      ]
     },
     "metadata": {
      "needs_background": "light"
     },
     "output_type": "display_data"
    }
   ],
   "source": [
    "sns.catplot(x=\"Rating\", y=\"Age\", hue=\"Recommended IND\",data= data)"
   ]
  },
  {
   "cell_type": "code",
   "execution_count": 37,
   "id": "d6a3010a",
   "metadata": {
    "execution": {
     "iopub.execute_input": "2022-06-20T12:29:13.714633Z",
     "iopub.status.busy": "2022-06-20T12:29:13.713871Z",
     "iopub.status.idle": "2022-06-20T12:29:18.073361Z",
     "shell.execute_reply": "2022-06-20T12:29:18.071933Z"
    },
    "papermill": {
     "duration": 4.387291,
     "end_time": "2022-06-20T12:29:18.076030",
     "exception": false,
     "start_time": "2022-06-20T12:29:13.688739",
     "status": "completed"
    },
    "tags": []
   },
   "outputs": [
    {
     "data": {
      "text/html": [
       "        <script type=\"text/javascript\">\n",
       "        window.PlotlyConfig = {MathJaxConfig: 'local'};\n",
       "        if (window.MathJax && window.MathJax.Hub && window.MathJax.Hub.Config) {window.MathJax.Hub.Config({SVG: {font: \"STIX-Web\"}});}\n",
       "        if (typeof require !== 'undefined') {\n",
       "        require.undef(\"plotly\");\n",
       "        requirejs.config({\n",
       "            paths: {\n",
       "                'plotly': ['https://cdn.plot.ly/plotly-2.12.1.min']\n",
       "            }\n",
       "        });\n",
       "        require(['plotly'], function(Plotly) {\n",
       "            window._Plotly = Plotly;\n",
       "        });\n",
       "        }\n",
       "        </script>\n",
       "        "
      ]
     },
     "metadata": {},
     "output_type": "display_data"
    },
    {
     "data": {
      "text/html": [
       "<div>                            <div id=\"63ad4b4a-b46d-4143-8e1d-956428c70839\" class=\"plotly-graph-div\" style=\"height:600px; width:1000px;\"></div>            <script type=\"text/javascript\">                require([\"plotly\"], function(Plotly) {                    window.PLOTLYENV=window.PLOTLYENV || {};                                    if (document.getElementById(\"63ad4b4a-b46d-4143-8e1d-956428c70839\")) {                    Plotly.newPlot(                        \"63ad4b4a-b46d-4143-8e1d-956428c70839\",                        [{\"branchvalues\":\"total\",\"domain\":{\"x\":[0.0,1.0],\"y\":[0.0,1.0]},\"hovertemplate\":\"labels=%{label}<br>0=%{value}<br>parent=%{parent}<br>id=%{id}<extra></extra>\",\"ids\":[\"&\",\"-\",\"I\",\"Love\",\"The\",\"This\",\"a\",\"about\",\"after\",\"all\",\"also\",\"am\",\"an\",\"and\",\"are\",\"around\",\"as\",\"at\",\"back\",\"be\",\"beautiful\",\"because\",\"been\",\"being\",\"better\",\"big\",\"bit\",\"black\",\"blue\",\"both\",\"bought\",\"but\",\"can\",\"color\",\"colors\",\"comfortable\",\"could\",\"cut\",\"cute\",\"definitely\",\"design\",\"did\",\"didn't\",\"do\",\"does\",\"doesn't\",\"don't\",\"down\",\"dress\",\"dress.\",\"enough\",\"even\",\"fabric\",\"feel\",\"first\",\"fit\",\"fits\",\"flattering\",\"flattering.\",\"for\",\"found\",\"from\",\"front\",\"get\",\"go\",\"going\",\"good\",\"got\",\"great\",\"had\",\"has\",\"have\",\"high\",\"how\",\"however,\",\"i\",\"i'm\",\"if\",\"in\",\"is\",\"it\",\"it!\",\"it's\",\"it.\",\"jeans\",\"just\",\"large\",\"length\",\"light\",\"like\",\"little\",\"long\",\"look\",\"looked\",\"looking\",\"looks\",\"love\",\"loved\",\"made\",\"make\",\"makes\",\"many\",\"material\",\"me\",\"me.\",\"medium\",\"more\",\"much\",\"my\",\"need\",\"nice\",\"no\",\"not\",\"of\",\"off\",\"on\",\"one\",\"online\",\"only\",\"or\",\"ordered\",\"other\",\"out\",\"over\",\"pants\",\"perfect\",\"petite\",\"pretty\",\"purchased\",\"quality\",\"really\",\"regular\",\"retailer\",\"right\",\"run\",\"runs\",\"saw\",\"see\",\"shirt\",\"short\",\"size\",\"size.\",\"skirt\",\"sleeves\",\"small\",\"small.\",\"so\",\"soft\",\"some\",\"still\",\"store\",\"style\",\"summer\",\"super\",\"sweater\",\"than\",\"that\",\"the\",\"them\",\"there\",\"these\",\"they\",\"think\",\"this\",\"thought\",\"tight\",\"to\",\"too\",\"top\",\"top.\",\"tried\",\"true\",\"try\",\"up\",\"usually\",\"very\",\"waist\",\"want\",\"wanted\",\"was\",\"way\",\"wear\",\"wearing\",\"well\",\"went\",\"were\",\"what\",\"when\",\"which\",\"white\",\"will\",\"with\",\"without\",\"wore\",\"work\",\"worn\",\"would\",\"xs\",\"you\",\"your\"],\"labels\":[\"&\",\"-\",\"I\",\"Love\",\"The\",\"This\",\"a\",\"about\",\"after\",\"all\",\"also\",\"am\",\"an\",\"and\",\"are\",\"around\",\"as\",\"at\",\"back\",\"be\",\"beautiful\",\"because\",\"been\",\"being\",\"better\",\"big\",\"bit\",\"black\",\"blue\",\"both\",\"bought\",\"but\",\"can\",\"color\",\"colors\",\"comfortable\",\"could\",\"cut\",\"cute\",\"definitely\",\"design\",\"did\",\"didn't\",\"do\",\"does\",\"doesn't\",\"don't\",\"down\",\"dress\",\"dress.\",\"enough\",\"even\",\"fabric\",\"feel\",\"first\",\"fit\",\"fits\",\"flattering\",\"flattering.\",\"for\",\"found\",\"from\",\"front\",\"get\",\"go\",\"going\",\"good\",\"got\",\"great\",\"had\",\"has\",\"have\",\"high\",\"how\",\"however,\",\"i\",\"i'm\",\"if\",\"in\",\"is\",\"it\",\"it!\",\"it's\",\"it.\",\"jeans\",\"just\",\"large\",\"length\",\"light\",\"like\",\"little\",\"long\",\"look\",\"looked\",\"looking\",\"looks\",\"love\",\"loved\",\"made\",\"make\",\"makes\",\"many\",\"material\",\"me\",\"me.\",\"medium\",\"more\",\"much\",\"my\",\"need\",\"nice\",\"no\",\"not\",\"of\",\"off\",\"on\",\"one\",\"online\",\"only\",\"or\",\"ordered\",\"other\",\"out\",\"over\",\"pants\",\"perfect\",\"petite\",\"pretty\",\"purchased\",\"quality\",\"really\",\"regular\",\"retailer\",\"right\",\"run\",\"runs\",\"saw\",\"see\",\"shirt\",\"short\",\"size\",\"size.\",\"skirt\",\"sleeves\",\"small\",\"small.\",\"so\",\"soft\",\"some\",\"still\",\"store\",\"style\",\"summer\",\"super\",\"sweater\",\"than\",\"that\",\"the\",\"them\",\"there\",\"these\",\"they\",\"think\",\"this\",\"thought\",\"tight\",\"to\",\"too\",\"top\",\"top.\",\"tried\",\"true\",\"try\",\"up\",\"usually\",\"very\",\"waist\",\"want\",\"wanted\",\"was\",\"way\",\"wear\",\"wearing\",\"well\",\"went\",\"were\",\"what\",\"when\",\"which\",\"white\",\"will\",\"with\",\"without\",\"wore\",\"work\",\"worn\",\"would\",\"xs\",\"you\",\"your\"],\"name\":\"\",\"parents\":[\"\",\"\",\"\",\"\",\"\",\"\",\"\",\"\",\"\",\"\",\"\",\"\",\"\",\"\",\"\",\"\",\"\",\"\",\"\",\"\",\"\",\"\",\"\",\"\",\"\",\"\",\"\",\"\",\"\",\"\",\"\",\"\",\"\",\"\",\"\",\"\",\"\",\"\",\"\",\"\",\"\",\"\",\"\",\"\",\"\",\"\",\"\",\"\",\"\",\"\",\"\",\"\",\"\",\"\",\"\",\"\",\"\",\"\",\"\",\"\",\"\",\"\",\"\",\"\",\"\",\"\",\"\",\"\",\"\",\"\",\"\",\"\",\"\",\"\",\"\",\"\",\"\",\"\",\"\",\"\",\"\",\"\",\"\",\"\",\"\",\"\",\"\",\"\",\"\",\"\",\"\",\"\",\"\",\"\",\"\",\"\",\"\",\"\",\"\",\"\",\"\",\"\",\"\",\"\",\"\",\"\",\"\",\"\",\"\",\"\",\"\",\"\",\"\",\"\",\"\",\"\",\"\",\"\",\"\",\"\",\"\",\"\",\"\",\"\",\"\",\"\",\"\",\"\",\"\",\"\",\"\",\"\",\"\",\"\",\"\",\"\",\"\",\"\",\"\",\"\",\"\",\"\",\"\",\"\",\"\",\"\",\"\",\"\",\"\",\"\",\"\",\"\",\"\",\"\",\"\",\"\",\"\",\"\",\"\",\"\",\"\",\"\",\"\",\"\",\"\",\"\",\"\",\"\",\"\",\"\",\"\",\"\",\"\",\"\",\"\",\"\",\"\",\"\",\"\",\"\",\"\",\"\",\"\",\"\",\"\",\"\",\"\",\"\",\"\",\"\",\"\",\"\",\"\",\"\",\"\",\"\",\"\",\"\",\"\",\"\"],\"values\":[899,2636,8756,1031,1070,4315,42632,1910,932,2243,2144,5676,3353,48505,7198,1022,6516,4743,2041,6846,1837,3133,1254,968,928,1112,2703,1393,969,998,2809,16104,3090,3254,1630,1624,1830,1438,2023,1314,1066,1344,1718,1495,1446,968,1733,1705,7773,1447,1288,2093,3768,1326,980,5863,2713,1948,993,13666,926,1998,999,1861,1259,1172,1645,2325,4579,3127,2513,7917,913,1237,986,49630,5082,3818,20211,30322,37302,911,6164,3122,1364,5397,1689,1951,896,6683,3716,1823,3409,1289,988,2771,7370,1127,1454,1063,1014,1074,2182,3874,1875,1618,3765,2365,10824,954,2412,1465,9314,13363,950,13684,2997,943,1781,5713,3699,1966,2513,1219,1213,2494,1770,1590,1430,1562,3775,1016,1580,1394,938,1616,999,1533,1863,1302,6780,1158,1403,1259,3087,931,11479,2220,1311,1693,1296,1043,916,1572,1769,2982,9136,74698,2034,1530,2751,4914,2132,20726,1019,1005,24314,5244,5014,1254,1996,1590,1052,3907,1952,7848,1438,920,996,12092,1464,5899,1468,1975,942,1748,1154,2795,2617,1173,3601,12651,980,907,1541,1087,4973,1559,4886,1195],\"type\":\"treemap\",\"textinfo\":\"label+value\"}],                        {\"template\":{\"data\":{\"histogram2dcontour\":[{\"type\":\"histogram2dcontour\",\"colorbar\":{\"outlinewidth\":0,\"ticks\":\"\"},\"colorscale\":[[0.0,\"#0d0887\"],[0.1111111111111111,\"#46039f\"],[0.2222222222222222,\"#7201a8\"],[0.3333333333333333,\"#9c179e\"],[0.4444444444444444,\"#bd3786\"],[0.5555555555555556,\"#d8576b\"],[0.6666666666666666,\"#ed7953\"],[0.7777777777777778,\"#fb9f3a\"],[0.8888888888888888,\"#fdca26\"],[1.0,\"#f0f921\"]]}],\"choropleth\":[{\"type\":\"choropleth\",\"colorbar\":{\"outlinewidth\":0,\"ticks\":\"\"}}],\"histogram2d\":[{\"type\":\"histogram2d\",\"colorbar\":{\"outlinewidth\":0,\"ticks\":\"\"},\"colorscale\":[[0.0,\"#0d0887\"],[0.1111111111111111,\"#46039f\"],[0.2222222222222222,\"#7201a8\"],[0.3333333333333333,\"#9c179e\"],[0.4444444444444444,\"#bd3786\"],[0.5555555555555556,\"#d8576b\"],[0.6666666666666666,\"#ed7953\"],[0.7777777777777778,\"#fb9f3a\"],[0.8888888888888888,\"#fdca26\"],[1.0,\"#f0f921\"]]}],\"heatmap\":[{\"type\":\"heatmap\",\"colorbar\":{\"outlinewidth\":0,\"ticks\":\"\"},\"colorscale\":[[0.0,\"#0d0887\"],[0.1111111111111111,\"#46039f\"],[0.2222222222222222,\"#7201a8\"],[0.3333333333333333,\"#9c179e\"],[0.4444444444444444,\"#bd3786\"],[0.5555555555555556,\"#d8576b\"],[0.6666666666666666,\"#ed7953\"],[0.7777777777777778,\"#fb9f3a\"],[0.8888888888888888,\"#fdca26\"],[1.0,\"#f0f921\"]]}],\"heatmapgl\":[{\"type\":\"heatmapgl\",\"colorbar\":{\"outlinewidth\":0,\"ticks\":\"\"},\"colorscale\":[[0.0,\"#0d0887\"],[0.1111111111111111,\"#46039f\"],[0.2222222222222222,\"#7201a8\"],[0.3333333333333333,\"#9c179e\"],[0.4444444444444444,\"#bd3786\"],[0.5555555555555556,\"#d8576b\"],[0.6666666666666666,\"#ed7953\"],[0.7777777777777778,\"#fb9f3a\"],[0.8888888888888888,\"#fdca26\"],[1.0,\"#f0f921\"]]}],\"contourcarpet\":[{\"type\":\"contourcarpet\",\"colorbar\":{\"outlinewidth\":0,\"ticks\":\"\"}}],\"contour\":[{\"type\":\"contour\",\"colorbar\":{\"outlinewidth\":0,\"ticks\":\"\"},\"colorscale\":[[0.0,\"#0d0887\"],[0.1111111111111111,\"#46039f\"],[0.2222222222222222,\"#7201a8\"],[0.3333333333333333,\"#9c179e\"],[0.4444444444444444,\"#bd3786\"],[0.5555555555555556,\"#d8576b\"],[0.6666666666666666,\"#ed7953\"],[0.7777777777777778,\"#fb9f3a\"],[0.8888888888888888,\"#fdca26\"],[1.0,\"#f0f921\"]]}],\"surface\":[{\"type\":\"surface\",\"colorbar\":{\"outlinewidth\":0,\"ticks\":\"\"},\"colorscale\":[[0.0,\"#0d0887\"],[0.1111111111111111,\"#46039f\"],[0.2222222222222222,\"#7201a8\"],[0.3333333333333333,\"#9c179e\"],[0.4444444444444444,\"#bd3786\"],[0.5555555555555556,\"#d8576b\"],[0.6666666666666666,\"#ed7953\"],[0.7777777777777778,\"#fb9f3a\"],[0.8888888888888888,\"#fdca26\"],[1.0,\"#f0f921\"]]}],\"mesh3d\":[{\"type\":\"mesh3d\",\"colorbar\":{\"outlinewidth\":0,\"ticks\":\"\"}}],\"scatter\":[{\"fillpattern\":{\"fillmode\":\"overlay\",\"size\":10,\"solidity\":0.2},\"type\":\"scatter\"}],\"parcoords\":[{\"type\":\"parcoords\",\"line\":{\"colorbar\":{\"outlinewidth\":0,\"ticks\":\"\"}}}],\"scatterpolargl\":[{\"type\":\"scatterpolargl\",\"marker\":{\"colorbar\":{\"outlinewidth\":0,\"ticks\":\"\"}}}],\"bar\":[{\"error_x\":{\"color\":\"#2a3f5f\"},\"error_y\":{\"color\":\"#2a3f5f\"},\"marker\":{\"line\":{\"color\":\"#E5ECF6\",\"width\":0.5},\"pattern\":{\"fillmode\":\"overlay\",\"size\":10,\"solidity\":0.2}},\"type\":\"bar\"}],\"scattergeo\":[{\"type\":\"scattergeo\",\"marker\":{\"colorbar\":{\"outlinewidth\":0,\"ticks\":\"\"}}}],\"scatterpolar\":[{\"type\":\"scatterpolar\",\"marker\":{\"colorbar\":{\"outlinewidth\":0,\"ticks\":\"\"}}}],\"histogram\":[{\"marker\":{\"pattern\":{\"fillmode\":\"overlay\",\"size\":10,\"solidity\":0.2}},\"type\":\"histogram\"}],\"scattergl\":[{\"type\":\"scattergl\",\"marker\":{\"colorbar\":{\"outlinewidth\":0,\"ticks\":\"\"}}}],\"scatter3d\":[{\"type\":\"scatter3d\",\"line\":{\"colorbar\":{\"outlinewidth\":0,\"ticks\":\"\"}},\"marker\":{\"colorbar\":{\"outlinewidth\":0,\"ticks\":\"\"}}}],\"scattermapbox\":[{\"type\":\"scattermapbox\",\"marker\":{\"colorbar\":{\"outlinewidth\":0,\"ticks\":\"\"}}}],\"scatterternary\":[{\"type\":\"scatterternary\",\"marker\":{\"colorbar\":{\"outlinewidth\":0,\"ticks\":\"\"}}}],\"scattercarpet\":[{\"type\":\"scattercarpet\",\"marker\":{\"colorbar\":{\"outlinewidth\":0,\"ticks\":\"\"}}}],\"carpet\":[{\"aaxis\":{\"endlinecolor\":\"#2a3f5f\",\"gridcolor\":\"white\",\"linecolor\":\"white\",\"minorgridcolor\":\"white\",\"startlinecolor\":\"#2a3f5f\"},\"baxis\":{\"endlinecolor\":\"#2a3f5f\",\"gridcolor\":\"white\",\"linecolor\":\"white\",\"minorgridcolor\":\"white\",\"startlinecolor\":\"#2a3f5f\"},\"type\":\"carpet\"}],\"table\":[{\"cells\":{\"fill\":{\"color\":\"#EBF0F8\"},\"line\":{\"color\":\"white\"}},\"header\":{\"fill\":{\"color\":\"#C8D4E3\"},\"line\":{\"color\":\"white\"}},\"type\":\"table\"}],\"barpolar\":[{\"marker\":{\"line\":{\"color\":\"#E5ECF6\",\"width\":0.5},\"pattern\":{\"fillmode\":\"overlay\",\"size\":10,\"solidity\":0.2}},\"type\":\"barpolar\"}],\"pie\":[{\"automargin\":true,\"type\":\"pie\"}]},\"layout\":{\"autotypenumbers\":\"strict\",\"colorway\":[\"#636efa\",\"#EF553B\",\"#00cc96\",\"#ab63fa\",\"#FFA15A\",\"#19d3f3\",\"#FF6692\",\"#B6E880\",\"#FF97FF\",\"#FECB52\"],\"font\":{\"color\":\"#2a3f5f\"},\"hovermode\":\"closest\",\"hoverlabel\":{\"align\":\"left\"},\"paper_bgcolor\":\"white\",\"plot_bgcolor\":\"#E5ECF6\",\"polar\":{\"bgcolor\":\"#E5ECF6\",\"angularaxis\":{\"gridcolor\":\"white\",\"linecolor\":\"white\",\"ticks\":\"\"},\"radialaxis\":{\"gridcolor\":\"white\",\"linecolor\":\"white\",\"ticks\":\"\"}},\"ternary\":{\"bgcolor\":\"#E5ECF6\",\"aaxis\":{\"gridcolor\":\"white\",\"linecolor\":\"white\",\"ticks\":\"\"},\"baxis\":{\"gridcolor\":\"white\",\"linecolor\":\"white\",\"ticks\":\"\"},\"caxis\":{\"gridcolor\":\"white\",\"linecolor\":\"white\",\"ticks\":\"\"}},\"coloraxis\":{\"colorbar\":{\"outlinewidth\":0,\"ticks\":\"\"}},\"colorscale\":{\"sequential\":[[0.0,\"#0d0887\"],[0.1111111111111111,\"#46039f\"],[0.2222222222222222,\"#7201a8\"],[0.3333333333333333,\"#9c179e\"],[0.4444444444444444,\"#bd3786\"],[0.5555555555555556,\"#d8576b\"],[0.6666666666666666,\"#ed7953\"],[0.7777777777777778,\"#fb9f3a\"],[0.8888888888888888,\"#fdca26\"],[1.0,\"#f0f921\"]],\"sequentialminus\":[[0.0,\"#0d0887\"],[0.1111111111111111,\"#46039f\"],[0.2222222222222222,\"#7201a8\"],[0.3333333333333333,\"#9c179e\"],[0.4444444444444444,\"#bd3786\"],[0.5555555555555556,\"#d8576b\"],[0.6666666666666666,\"#ed7953\"],[0.7777777777777778,\"#fb9f3a\"],[0.8888888888888888,\"#fdca26\"],[1.0,\"#f0f921\"]],\"diverging\":[[0,\"#8e0152\"],[0.1,\"#c51b7d\"],[0.2,\"#de77ae\"],[0.3,\"#f1b6da\"],[0.4,\"#fde0ef\"],[0.5,\"#f7f7f7\"],[0.6,\"#e6f5d0\"],[0.7,\"#b8e186\"],[0.8,\"#7fbc41\"],[0.9,\"#4d9221\"],[1,\"#276419\"]]},\"xaxis\":{\"gridcolor\":\"white\",\"linecolor\":\"white\",\"ticks\":\"\",\"title\":{\"standoff\":15},\"zerolinecolor\":\"white\",\"automargin\":true,\"zerolinewidth\":2},\"yaxis\":{\"gridcolor\":\"white\",\"linecolor\":\"white\",\"ticks\":\"\",\"title\":{\"standoff\":15},\"zerolinecolor\":\"white\",\"automargin\":true,\"zerolinewidth\":2},\"scene\":{\"xaxis\":{\"backgroundcolor\":\"#E5ECF6\",\"gridcolor\":\"white\",\"linecolor\":\"white\",\"showbackground\":true,\"ticks\":\"\",\"zerolinecolor\":\"white\",\"gridwidth\":2},\"yaxis\":{\"backgroundcolor\":\"#E5ECF6\",\"gridcolor\":\"white\",\"linecolor\":\"white\",\"showbackground\":true,\"ticks\":\"\",\"zerolinecolor\":\"white\",\"gridwidth\":2},\"zaxis\":{\"backgroundcolor\":\"#E5ECF6\",\"gridcolor\":\"white\",\"linecolor\":\"white\",\"showbackground\":true,\"ticks\":\"\",\"zerolinecolor\":\"white\",\"gridwidth\":2}},\"shapedefaults\":{\"line\":{\"color\":\"#2a3f5f\"}},\"annotationdefaults\":{\"arrowcolor\":\"#2a3f5f\",\"arrowhead\":0,\"arrowwidth\":1},\"geo\":{\"bgcolor\":\"white\",\"landcolor\":\"#E5ECF6\",\"subunitcolor\":\"white\",\"showland\":true,\"showlakes\":true,\"lakecolor\":\"white\"},\"title\":{\"x\":0.05},\"mapbox\":{\"style\":\"light\"}}},\"legend\":{\"tracegroupgap\":0},\"margin\":{\"t\":60},\"height\":600,\"width\":1000,\"title\":{\"font\":{\"size\":20},\"text\":\"Top Frequent 200 Words in the Dataset (Before Cleaning)\",\"x\":0.5}},                        {\"responsive\": true}                    ).then(function(){\n",
       "                            \n",
       "var gd = document.getElementById('63ad4b4a-b46d-4143-8e1d-956428c70839');\n",
       "var x = new MutationObserver(function (mutations, observer) {{\n",
       "        var display = window.getComputedStyle(gd).display;\n",
       "        if (!display || display === 'none') {{\n",
       "            console.log([gd, 'removed!']);\n",
       "            Plotly.purge(gd);\n",
       "            observer.disconnect();\n",
       "        }}\n",
       "}});\n",
       "\n",
       "// Listen for the removal of the full notebook cells\n",
       "var notebookContainer = gd.closest('#notebook-container');\n",
       "if (notebookContainer) {{\n",
       "    x.observe(notebookContainer, {childList: true});\n",
       "}}\n",
       "\n",
       "// Listen for the clearing of the current output cell\n",
       "var outputEl = gd.closest('.output');\n",
       "if (outputEl) {{\n",
       "    x.observe(outputEl, {childList: true});\n",
       "}}\n",
       "\n",
       "                        })                };                });            </script>        </div>"
      ]
     },
     "metadata": {},
     "output_type": "display_data"
    }
   ],
   "source": [
    "import plotly.express as px\n",
    "FreqOfWords = data['Review Text'].str.split(expand=True).stack().value_counts()\n",
    "FreqOfWords_top200 = FreqOfWords[:200]\n",
    "\n",
    "fig = px.treemap(FreqOfWords_top200, path=[FreqOfWords_top200.index], values=0, width=1000, height=600)\n",
    "fig.update_layout(title_text='Top Frequent 200 Words in the Dataset (Before Cleaning)',\n",
    "                  title_x=0.5, title_font=dict(size=20)\n",
    "                  )\n",
    "fig.update_traces(textinfo=\"label+value\")\n",
    "fig.show()"
   ]
  },
  {
   "cell_type": "code",
   "execution_count": 38,
   "id": "99b986f8",
   "metadata": {
    "execution": {
     "iopub.execute_input": "2022-06-20T12:29:18.128052Z",
     "iopub.status.busy": "2022-06-20T12:29:18.127629Z",
     "iopub.status.idle": "2022-06-20T12:29:19.392750Z",
     "shell.execute_reply": "2022-06-20T12:29:19.391633Z"
    },
    "papermill": {
     "duration": 1.294811,
     "end_time": "2022-06-20T12:29:19.395269",
     "exception": false,
     "start_time": "2022-06-20T12:29:18.100458",
     "status": "completed"
    },
    "tags": []
   },
   "outputs": [
    {
     "data": {
      "text/html": [
       "<div>                            <div id=\"d3b2c7af-e5f7-4e09-a34a-e3ef4f8d99bb\" class=\"plotly-graph-div\" style=\"height:600px; width:1000px;\"></div>            <script type=\"text/javascript\">                require([\"plotly\"], function(Plotly) {                    window.PLOTLYENV=window.PLOTLYENV || {};                                    if (document.getElementById(\"d3b2c7af-e5f7-4e09-a34a-e3ef4f8d99bb\")) {                    Plotly.newPlot(                        \"d3b2c7af-e5f7-4e09-a34a-e3ef4f8d99bb\",                        [{\"branchvalues\":\"total\",\"domain\":{\"x\":[0.0,1.0],\"y\":[0.0,1.0]},\"hovertemplate\":\"labels=%{label}<br>0=%{value}<br>parent=%{parent}<br>id=%{id}<extra></extra>\",\"ids\":[\"2\",\"4\",\"5\",\"6\",\"absolut\",\"actual\",\"ador\",\"almost\",\"also\",\"anoth\",\"area\",\"arm\",\"around\",\"back\",\"bad\",\"beauti\",\"better\",\"big\",\"bit\",\"black\",\"blous\",\"blue\",\"bodi\",\"bottom\",\"bought\",\"boxi\",\"bra\",\"bust\",\"button\",\"buy\",\"ca\",\"casual\",\"cheap\",\"chest\",\"color\",\"comfi\",\"comfort\",\"could\",\"cut\",\"cute\",\"day\",\"definit\",\"design\",\"detail\",\"differ\",\"disappoint\",\"dress\",\"enough\",\"even\",\"excit\",\"expect\",\"extra\",\"fabric\",\"fall\",\"feel\",\"felt\",\"find\",\"first\",\"fit\",\"flatter\",\"found\",\"front\",\"fun\",\"get\",\"give\",\"go\",\"good\",\"gorgeou\",\"got\",\"great\",\"high\",\"hip\",\"hit\",\"hope\",\"howev\",\"huge\",\"jacket\",\"jean\",\"keep\",\"lace\",\"larg\",\"layer\",\"lb\",\"leg\",\"length\",\"light\",\"like\",\"line\",\"littl\",\"long\",\"longer\",\"look\",\"loos\",\"lot\",\"love\",\"made\",\"make\",\"mani\",\"materi\",\"may\",\"mayb\",\"medium\",\"might\",\"model\",\"much\",\"need\",\"nice\",\"normal\",\"one\",\"onlin\",\"order\",\"overal\",\"pair\",\"pant\",\"pattern\",\"perfect\",\"perfectli\",\"person\",\"petit\",\"photo\",\"pictur\",\"piec\",\"pretti\",\"price\",\"print\",\"pull\",\"purchas\",\"put\",\"qualiti\",\"quit\",\"realli\",\"receiv\",\"recommend\",\"regular\",\"retail\",\"return\",\"review\",\"right\",\"run\",\"sale\",\"saw\",\"say\",\"see\",\"seem\",\"shape\",\"sheer\",\"shirt\",\"short\",\"shoulder\",\"show\",\"side\",\"sinc\",\"size\",\"skirt\",\"sleev\",\"small\",\"soft\",\"someth\",\"still\",\"store\",\"stretch\",\"style\",\"summer\",\"super\",\"sure\",\"sweater\",\"tee\",\"thin\",\"thing\",\"think\",\"though\",\"thought\",\"tight\",\"time\",\"top\",\"tri\",\"true\",\"two\",\"unflatt\",\"unfortun\",\"uniqu\",\"usual\",\"waist\",\"want\",\"wash\",\"way\",\"wear\",\"weight\",\"well\",\"went\",\"white\",\"wide\",\"wish\",\"without\",\"wore\",\"work\",\"worn\",\"worth\",\"would\",\"xs\"],\"labels\":[\"2\",\"4\",\"5\",\"6\",\"absolut\",\"actual\",\"ador\",\"almost\",\"also\",\"anoth\",\"area\",\"arm\",\"around\",\"back\",\"bad\",\"beauti\",\"better\",\"big\",\"bit\",\"black\",\"blous\",\"blue\",\"bodi\",\"bottom\",\"bought\",\"boxi\",\"bra\",\"bust\",\"button\",\"buy\",\"ca\",\"casual\",\"cheap\",\"chest\",\"color\",\"comfi\",\"comfort\",\"could\",\"cut\",\"cute\",\"day\",\"definit\",\"design\",\"detail\",\"differ\",\"disappoint\",\"dress\",\"enough\",\"even\",\"excit\",\"expect\",\"extra\",\"fabric\",\"fall\",\"feel\",\"felt\",\"find\",\"first\",\"fit\",\"flatter\",\"found\",\"front\",\"fun\",\"get\",\"give\",\"go\",\"good\",\"gorgeou\",\"got\",\"great\",\"high\",\"hip\",\"hit\",\"hope\",\"howev\",\"huge\",\"jacket\",\"jean\",\"keep\",\"lace\",\"larg\",\"layer\",\"lb\",\"leg\",\"length\",\"light\",\"like\",\"line\",\"littl\",\"long\",\"longer\",\"look\",\"loos\",\"lot\",\"love\",\"made\",\"make\",\"mani\",\"materi\",\"may\",\"mayb\",\"medium\",\"might\",\"model\",\"much\",\"need\",\"nice\",\"normal\",\"one\",\"onlin\",\"order\",\"overal\",\"pair\",\"pant\",\"pattern\",\"perfect\",\"perfectli\",\"person\",\"petit\",\"photo\",\"pictur\",\"piec\",\"pretti\",\"price\",\"print\",\"pull\",\"purchas\",\"put\",\"qualiti\",\"quit\",\"realli\",\"receiv\",\"recommend\",\"regular\",\"retail\",\"return\",\"review\",\"right\",\"run\",\"sale\",\"saw\",\"say\",\"see\",\"seem\",\"shape\",\"sheer\",\"shirt\",\"short\",\"shoulder\",\"show\",\"side\",\"sinc\",\"size\",\"skirt\",\"sleev\",\"small\",\"soft\",\"someth\",\"still\",\"store\",\"stretch\",\"style\",\"summer\",\"super\",\"sure\",\"sweater\",\"tee\",\"thin\",\"thing\",\"think\",\"though\",\"thought\",\"tight\",\"time\",\"top\",\"tri\",\"true\",\"two\",\"unflatt\",\"unfortun\",\"uniqu\",\"usual\",\"waist\",\"want\",\"wash\",\"way\",\"wear\",\"weight\",\"well\",\"went\",\"white\",\"wide\",\"wish\",\"without\",\"wore\",\"work\",\"worn\",\"worth\",\"would\",\"xs\"],\"name\":\"\",\"parents\":[\"\",\"\",\"\",\"\",\"\",\"\",\"\",\"\",\"\",\"\",\"\",\"\",\"\",\"\",\"\",\"\",\"\",\"\",\"\",\"\",\"\",\"\",\"\",\"\",\"\",\"\",\"\",\"\",\"\",\"\",\"\",\"\",\"\",\"\",\"\",\"\",\"\",\"\",\"\",\"\",\"\",\"\",\"\",\"\",\"\",\"\",\"\",\"\",\"\",\"\",\"\",\"\",\"\",\"\",\"\",\"\",\"\",\"\",\"\",\"\",\"\",\"\",\"\",\"\",\"\",\"\",\"\",\"\",\"\",\"\",\"\",\"\",\"\",\"\",\"\",\"\",\"\",\"\",\"\",\"\",\"\",\"\",\"\",\"\",\"\",\"\",\"\",\"\",\"\",\"\",\"\",\"\",\"\",\"\",\"\",\"\",\"\",\"\",\"\",\"\",\"\",\"\",\"\",\"\",\"\",\"\",\"\",\"\",\"\",\"\",\"\",\"\",\"\",\"\",\"\",\"\",\"\",\"\",\"\",\"\",\"\",\"\",\"\",\"\",\"\",\"\",\"\",\"\",\"\",\"\",\"\",\"\",\"\",\"\",\"\",\"\",\"\",\"\",\"\",\"\",\"\",\"\",\"\",\"\",\"\",\"\",\"\",\"\",\"\",\"\",\"\",\"\",\"\",\"\",\"\",\"\",\"\",\"\",\"\",\"\",\"\",\"\",\"\",\"\",\"\",\"\",\"\",\"\",\"\",\"\",\"\",\"\",\"\",\"\",\"\",\"\",\"\",\"\",\"\",\"\",\"\",\"\",\"\",\"\",\"\",\"\",\"\",\"\",\"\",\"\",\"\",\"\",\"\",\"\",\"\",\"\",\"\",\"\",\"\",\"\"],\"values\":[1405,1197,1114,1207,1084,1074,1213,1127,4379,1162,1274,2642,1937,6059,1107,6378,2053,3388,3658,2244,1710,1636,1995,2206,3597,1619,1374,1857,1699,1482,1388,1332,1090,2121,10362,1350,3981,4161,3275,6352,1464,1815,3389,2041,1418,2964,19364,1715,3859,1094,1858,1091,8979,1930,3110,1598,1412,1998,16664,5322,1351,2180,1075,3443,1208,4119,3319,1757,3136,8915,1829,1675,1282,1628,2688,1664,1744,3177,1668,1128,4550,1092,1852,1923,3340,1353,13144,2123,4610,3394,1102,15840,1850,1578,17189,3304,3578,1307,4769,1108,1122,2856,1140,2669,4879,2218,5535,1784,5399,2587,7608,1273,1723,3137,1716,4984,1546,2191,3390,2093,3015,1719,4363,2277,1641,1077,2919,1200,4413,1358,6279,1639,1358,1354,3357,4229,3416,2630,4346,1893,1411,1357,2754,1900,2254,1190,4802,4179,2320,1368,2042,1233,14697,3281,3069,7414,4309,1115,2421,2737,1327,3043,2070,2444,1392,4429,1078,2026,1304,3300,1870,2084,2664,2003,13962,5674,2014,1300,1274,1710,1128,3941,4021,4292,2173,3987,10371,1093,4283,1353,1973,1509,1345,1217,1255,4829,1273,1082,9201,2890],\"type\":\"treemap\",\"textinfo\":\"label+value\"}],                        {\"template\":{\"data\":{\"histogram2dcontour\":[{\"type\":\"histogram2dcontour\",\"colorbar\":{\"outlinewidth\":0,\"ticks\":\"\"},\"colorscale\":[[0.0,\"#0d0887\"],[0.1111111111111111,\"#46039f\"],[0.2222222222222222,\"#7201a8\"],[0.3333333333333333,\"#9c179e\"],[0.4444444444444444,\"#bd3786\"],[0.5555555555555556,\"#d8576b\"],[0.6666666666666666,\"#ed7953\"],[0.7777777777777778,\"#fb9f3a\"],[0.8888888888888888,\"#fdca26\"],[1.0,\"#f0f921\"]]}],\"choropleth\":[{\"type\":\"choropleth\",\"colorbar\":{\"outlinewidth\":0,\"ticks\":\"\"}}],\"histogram2d\":[{\"type\":\"histogram2d\",\"colorbar\":{\"outlinewidth\":0,\"ticks\":\"\"},\"colorscale\":[[0.0,\"#0d0887\"],[0.1111111111111111,\"#46039f\"],[0.2222222222222222,\"#7201a8\"],[0.3333333333333333,\"#9c179e\"],[0.4444444444444444,\"#bd3786\"],[0.5555555555555556,\"#d8576b\"],[0.6666666666666666,\"#ed7953\"],[0.7777777777777778,\"#fb9f3a\"],[0.8888888888888888,\"#fdca26\"],[1.0,\"#f0f921\"]]}],\"heatmap\":[{\"type\":\"heatmap\",\"colorbar\":{\"outlinewidth\":0,\"ticks\":\"\"},\"colorscale\":[[0.0,\"#0d0887\"],[0.1111111111111111,\"#46039f\"],[0.2222222222222222,\"#7201a8\"],[0.3333333333333333,\"#9c179e\"],[0.4444444444444444,\"#bd3786\"],[0.5555555555555556,\"#d8576b\"],[0.6666666666666666,\"#ed7953\"],[0.7777777777777778,\"#fb9f3a\"],[0.8888888888888888,\"#fdca26\"],[1.0,\"#f0f921\"]]}],\"heatmapgl\":[{\"type\":\"heatmapgl\",\"colorbar\":{\"outlinewidth\":0,\"ticks\":\"\"},\"colorscale\":[[0.0,\"#0d0887\"],[0.1111111111111111,\"#46039f\"],[0.2222222222222222,\"#7201a8\"],[0.3333333333333333,\"#9c179e\"],[0.4444444444444444,\"#bd3786\"],[0.5555555555555556,\"#d8576b\"],[0.6666666666666666,\"#ed7953\"],[0.7777777777777778,\"#fb9f3a\"],[0.8888888888888888,\"#fdca26\"],[1.0,\"#f0f921\"]]}],\"contourcarpet\":[{\"type\":\"contourcarpet\",\"colorbar\":{\"outlinewidth\":0,\"ticks\":\"\"}}],\"contour\":[{\"type\":\"contour\",\"colorbar\":{\"outlinewidth\":0,\"ticks\":\"\"},\"colorscale\":[[0.0,\"#0d0887\"],[0.1111111111111111,\"#46039f\"],[0.2222222222222222,\"#7201a8\"],[0.3333333333333333,\"#9c179e\"],[0.4444444444444444,\"#bd3786\"],[0.5555555555555556,\"#d8576b\"],[0.6666666666666666,\"#ed7953\"],[0.7777777777777778,\"#fb9f3a\"],[0.8888888888888888,\"#fdca26\"],[1.0,\"#f0f921\"]]}],\"surface\":[{\"type\":\"surface\",\"colorbar\":{\"outlinewidth\":0,\"ticks\":\"\"},\"colorscale\":[[0.0,\"#0d0887\"],[0.1111111111111111,\"#46039f\"],[0.2222222222222222,\"#7201a8\"],[0.3333333333333333,\"#9c179e\"],[0.4444444444444444,\"#bd3786\"],[0.5555555555555556,\"#d8576b\"],[0.6666666666666666,\"#ed7953\"],[0.7777777777777778,\"#fb9f3a\"],[0.8888888888888888,\"#fdca26\"],[1.0,\"#f0f921\"]]}],\"mesh3d\":[{\"type\":\"mesh3d\",\"colorbar\":{\"outlinewidth\":0,\"ticks\":\"\"}}],\"scatter\":[{\"fillpattern\":{\"fillmode\":\"overlay\",\"size\":10,\"solidity\":0.2},\"type\":\"scatter\"}],\"parcoords\":[{\"type\":\"parcoords\",\"line\":{\"colorbar\":{\"outlinewidth\":0,\"ticks\":\"\"}}}],\"scatterpolargl\":[{\"type\":\"scatterpolargl\",\"marker\":{\"colorbar\":{\"outlinewidth\":0,\"ticks\":\"\"}}}],\"bar\":[{\"error_x\":{\"color\":\"#2a3f5f\"},\"error_y\":{\"color\":\"#2a3f5f\"},\"marker\":{\"line\":{\"color\":\"#E5ECF6\",\"width\":0.5},\"pattern\":{\"fillmode\":\"overlay\",\"size\":10,\"solidity\":0.2}},\"type\":\"bar\"}],\"scattergeo\":[{\"type\":\"scattergeo\",\"marker\":{\"colorbar\":{\"outlinewidth\":0,\"ticks\":\"\"}}}],\"scatterpolar\":[{\"type\":\"scatterpolar\",\"marker\":{\"colorbar\":{\"outlinewidth\":0,\"ticks\":\"\"}}}],\"histogram\":[{\"marker\":{\"pattern\":{\"fillmode\":\"overlay\",\"size\":10,\"solidity\":0.2}},\"type\":\"histogram\"}],\"scattergl\":[{\"type\":\"scattergl\",\"marker\":{\"colorbar\":{\"outlinewidth\":0,\"ticks\":\"\"}}}],\"scatter3d\":[{\"type\":\"scatter3d\",\"line\":{\"colorbar\":{\"outlinewidth\":0,\"ticks\":\"\"}},\"marker\":{\"colorbar\":{\"outlinewidth\":0,\"ticks\":\"\"}}}],\"scattermapbox\":[{\"type\":\"scattermapbox\",\"marker\":{\"colorbar\":{\"outlinewidth\":0,\"ticks\":\"\"}}}],\"scatterternary\":[{\"type\":\"scatterternary\",\"marker\":{\"colorbar\":{\"outlinewidth\":0,\"ticks\":\"\"}}}],\"scattercarpet\":[{\"type\":\"scattercarpet\",\"marker\":{\"colorbar\":{\"outlinewidth\":0,\"ticks\":\"\"}}}],\"carpet\":[{\"aaxis\":{\"endlinecolor\":\"#2a3f5f\",\"gridcolor\":\"white\",\"linecolor\":\"white\",\"minorgridcolor\":\"white\",\"startlinecolor\":\"#2a3f5f\"},\"baxis\":{\"endlinecolor\":\"#2a3f5f\",\"gridcolor\":\"white\",\"linecolor\":\"white\",\"minorgridcolor\":\"white\",\"startlinecolor\":\"#2a3f5f\"},\"type\":\"carpet\"}],\"table\":[{\"cells\":{\"fill\":{\"color\":\"#EBF0F8\"},\"line\":{\"color\":\"white\"}},\"header\":{\"fill\":{\"color\":\"#C8D4E3\"},\"line\":{\"color\":\"white\"}},\"type\":\"table\"}],\"barpolar\":[{\"marker\":{\"line\":{\"color\":\"#E5ECF6\",\"width\":0.5},\"pattern\":{\"fillmode\":\"overlay\",\"size\":10,\"solidity\":0.2}},\"type\":\"barpolar\"}],\"pie\":[{\"automargin\":true,\"type\":\"pie\"}]},\"layout\":{\"autotypenumbers\":\"strict\",\"colorway\":[\"#636efa\",\"#EF553B\",\"#00cc96\",\"#ab63fa\",\"#FFA15A\",\"#19d3f3\",\"#FF6692\",\"#B6E880\",\"#FF97FF\",\"#FECB52\"],\"font\":{\"color\":\"#2a3f5f\"},\"hovermode\":\"closest\",\"hoverlabel\":{\"align\":\"left\"},\"paper_bgcolor\":\"white\",\"plot_bgcolor\":\"#E5ECF6\",\"polar\":{\"bgcolor\":\"#E5ECF6\",\"angularaxis\":{\"gridcolor\":\"white\",\"linecolor\":\"white\",\"ticks\":\"\"},\"radialaxis\":{\"gridcolor\":\"white\",\"linecolor\":\"white\",\"ticks\":\"\"}},\"ternary\":{\"bgcolor\":\"#E5ECF6\",\"aaxis\":{\"gridcolor\":\"white\",\"linecolor\":\"white\",\"ticks\":\"\"},\"baxis\":{\"gridcolor\":\"white\",\"linecolor\":\"white\",\"ticks\":\"\"},\"caxis\":{\"gridcolor\":\"white\",\"linecolor\":\"white\",\"ticks\":\"\"}},\"coloraxis\":{\"colorbar\":{\"outlinewidth\":0,\"ticks\":\"\"}},\"colorscale\":{\"sequential\":[[0.0,\"#0d0887\"],[0.1111111111111111,\"#46039f\"],[0.2222222222222222,\"#7201a8\"],[0.3333333333333333,\"#9c179e\"],[0.4444444444444444,\"#bd3786\"],[0.5555555555555556,\"#d8576b\"],[0.6666666666666666,\"#ed7953\"],[0.7777777777777778,\"#fb9f3a\"],[0.8888888888888888,\"#fdca26\"],[1.0,\"#f0f921\"]],\"sequentialminus\":[[0.0,\"#0d0887\"],[0.1111111111111111,\"#46039f\"],[0.2222222222222222,\"#7201a8\"],[0.3333333333333333,\"#9c179e\"],[0.4444444444444444,\"#bd3786\"],[0.5555555555555556,\"#d8576b\"],[0.6666666666666666,\"#ed7953\"],[0.7777777777777778,\"#fb9f3a\"],[0.8888888888888888,\"#fdca26\"],[1.0,\"#f0f921\"]],\"diverging\":[[0,\"#8e0152\"],[0.1,\"#c51b7d\"],[0.2,\"#de77ae\"],[0.3,\"#f1b6da\"],[0.4,\"#fde0ef\"],[0.5,\"#f7f7f7\"],[0.6,\"#e6f5d0\"],[0.7,\"#b8e186\"],[0.8,\"#7fbc41\"],[0.9,\"#4d9221\"],[1,\"#276419\"]]},\"xaxis\":{\"gridcolor\":\"white\",\"linecolor\":\"white\",\"ticks\":\"\",\"title\":{\"standoff\":15},\"zerolinecolor\":\"white\",\"automargin\":true,\"zerolinewidth\":2},\"yaxis\":{\"gridcolor\":\"white\",\"linecolor\":\"white\",\"ticks\":\"\",\"title\":{\"standoff\":15},\"zerolinecolor\":\"white\",\"automargin\":true,\"zerolinewidth\":2},\"scene\":{\"xaxis\":{\"backgroundcolor\":\"#E5ECF6\",\"gridcolor\":\"white\",\"linecolor\":\"white\",\"showbackground\":true,\"ticks\":\"\",\"zerolinecolor\":\"white\",\"gridwidth\":2},\"yaxis\":{\"backgroundcolor\":\"#E5ECF6\",\"gridcolor\":\"white\",\"linecolor\":\"white\",\"showbackground\":true,\"ticks\":\"\",\"zerolinecolor\":\"white\",\"gridwidth\":2},\"zaxis\":{\"backgroundcolor\":\"#E5ECF6\",\"gridcolor\":\"white\",\"linecolor\":\"white\",\"showbackground\":true,\"ticks\":\"\",\"zerolinecolor\":\"white\",\"gridwidth\":2}},\"shapedefaults\":{\"line\":{\"color\":\"#2a3f5f\"}},\"annotationdefaults\":{\"arrowcolor\":\"#2a3f5f\",\"arrowhead\":0,\"arrowwidth\":1},\"geo\":{\"bgcolor\":\"white\",\"landcolor\":\"#E5ECF6\",\"subunitcolor\":\"white\",\"showland\":true,\"showlakes\":true,\"lakecolor\":\"white\"},\"title\":{\"x\":0.05},\"mapbox\":{\"style\":\"light\"}}},\"legend\":{\"tracegroupgap\":0},\"margin\":{\"t\":60},\"height\":600,\"width\":1000,\"title\":{\"font\":{\"size\":20},\"text\":\"Top Frequent 200 Words in the Dataset (After Cleaning)\",\"x\":0.5}},                        {\"responsive\": true}                    ).then(function(){\n",
       "                            \n",
       "var gd = document.getElementById('d3b2c7af-e5f7-4e09-a34a-e3ef4f8d99bb');\n",
       "var x = new MutationObserver(function (mutations, observer) {{\n",
       "        var display = window.getComputedStyle(gd).display;\n",
       "        if (!display || display === 'none') {{\n",
       "            console.log([gd, 'removed!']);\n",
       "            Plotly.purge(gd);\n",
       "            observer.disconnect();\n",
       "        }}\n",
       "}});\n",
       "\n",
       "// Listen for the removal of the full notebook cells\n",
       "var notebookContainer = gd.closest('#notebook-container');\n",
       "if (notebookContainer) {{\n",
       "    x.observe(notebookContainer, {childList: true});\n",
       "}}\n",
       "\n",
       "// Listen for the clearing of the current output cell\n",
       "var outputEl = gd.closest('.output');\n",
       "if (outputEl) {{\n",
       "    x.observe(outputEl, {childList: true});\n",
       "}}\n",
       "\n",
       "                        })                };                });            </script>        </div>"
      ]
     },
     "metadata": {},
     "output_type": "display_data"
    }
   ],
   "source": [
    "FreqOfWords = df_upsampled[\"transformed_text\"].str.split(expand=True).stack().value_counts()\n",
    "FreqOfWords_top200 = FreqOfWords[:200]\n",
    "\n",
    "fig = px.treemap(FreqOfWords_top200, path=[FreqOfWords_top200.index], values=0, width=1000, height=600)\n",
    "fig.update_layout(title_text='Top Frequent 200 Words in the Dataset (After Cleaning)',\n",
    "                  title_x=0.5, title_font=dict(size=20)\n",
    "                  )\n",
    "fig.update_traces(textinfo=\"label+value\")\n",
    "fig.show()"
   ]
  },
  {
   "cell_type": "code",
   "execution_count": 39,
   "id": "28cabd7e",
   "metadata": {
    "execution": {
     "iopub.execute_input": "2022-06-20T12:29:19.448768Z",
     "iopub.status.busy": "2022-06-20T12:29:19.448291Z",
     "iopub.status.idle": "2022-06-20T12:29:19.496814Z",
     "shell.execute_reply": "2022-06-20T12:29:19.495629Z"
    },
    "papermill": {
     "duration": 0.077696,
     "end_time": "2022-06-20T12:29:19.499437",
     "exception": false,
     "start_time": "2022-06-20T12:29:19.421741",
     "status": "completed"
    },
    "tags": []
   },
   "outputs": [],
   "source": [
    "from wordcloud import WordCloud\n",
    "wc = WordCloud(width=500,height=500,min_font_size=10,background_color='white')"
   ]
  },
  {
   "cell_type": "code",
   "execution_count": 40,
   "id": "61ce0620",
   "metadata": {
    "execution": {
     "iopub.execute_input": "2022-06-20T12:29:19.549780Z",
     "iopub.status.busy": "2022-06-20T12:29:19.548976Z",
     "iopub.status.idle": "2022-06-20T12:29:26.880573Z",
     "shell.execute_reply": "2022-06-20T12:29:26.879508Z"
    },
    "papermill": {
     "duration": 7.359917,
     "end_time": "2022-06-20T12:29:26.883854",
     "exception": false,
     "start_time": "2022-06-20T12:29:19.523937",
     "status": "completed"
    },
    "tags": []
   },
   "outputs": [],
   "source": [
    "recommended_wc = wc.generate(df_upsampled[df_upsampled['Recommended'] == 1]['transformed_text'].str.cat(sep=\" \"))\n",
    "notrec_wc = wc.generate(df_upsampled[df_upsampled['Recommended'] == 0]['transformed_text'].str.cat(sep=\" \"))"
   ]
  },
  {
   "cell_type": "code",
   "execution_count": 41,
   "id": "a5719137",
   "metadata": {
    "execution": {
     "iopub.execute_input": "2022-06-20T12:29:26.941163Z",
     "iopub.status.busy": "2022-06-20T12:29:26.940608Z",
     "iopub.status.idle": "2022-06-20T12:29:27.638202Z",
     "shell.execute_reply": "2022-06-20T12:29:27.637360Z"
    },
    "papermill": {
     "duration": 0.731202,
     "end_time": "2022-06-20T12:29:27.641162",
     "exception": false,
     "start_time": "2022-06-20T12:29:26.909960",
     "status": "completed"
    },
    "tags": []
   },
   "outputs": [
    {
     "data": {
      "text/plain": [
       "<matplotlib.image.AxesImage at 0x7efe48e37650>"
      ]
     },
     "execution_count": 41,
     "metadata": {},
     "output_type": "execute_result"
    },
    {
     "data": {
      "image/png": "[encoded data removed]",
      "text/plain": [
       "<Figure size 1080x432 with 1 Axes>"
      ]
     },
     "metadata": {
      "needs_background": "light"
     },
     "output_type": "display_data"
    },
    {
     "data": {
      "image/png": "[encoded data removed]",
      "text/plain": [
       "<Figure size 1080x432 with 1 Axes>"
      ]
     },
     "metadata": {
      "needs_background": "light"
     },
     "output_type": "display_data"
    }
   ],
   "source": [
    "plt.figure(figsize=(15,6))\n",
    "plt.imshow(recommended_wc)\n",
    "\n",
    "plt.figure(figsize=(15,6))\n",
    "plt.imshow(notrec_wc)"
   ]
  },
  {
   "cell_type": "markdown",
   "id": "a9433149",
   "metadata": {
    "papermill": {
     "duration": 0.030225,
     "end_time": "2022-06-20T12:29:27.700818",
     "exception": false,
     "start_time": "2022-06-20T12:29:27.670593",
     "status": "completed"
    },
    "tags": []
   },
   "source": [
    "# Splitting the dataset"
   ]
  },
  {
   "cell_type": "code",
   "execution_count": 42,
   "id": "23bc89f2",
   "metadata": {
    "execution": {
     "iopub.execute_input": "2022-06-20T12:29:27.763914Z",
     "iopub.status.busy": "2022-06-20T12:29:27.763147Z",
     "iopub.status.idle": "2022-06-20T12:29:30.569861Z",
     "shell.execute_reply": "2022-06-20T12:29:30.568962Z"
    },
    "papermill": {
     "duration": 2.839316,
     "end_time": "2022-06-20T12:29:30.572358",
     "exception": false,
     "start_time": "2022-06-20T12:29:27.733042",
     "status": "completed"
    },
    "tags": []
   },
   "outputs": [],
   "source": [
    "from sklearn.model_selection import train_test_split\n",
    "from sklearn.feature_extraction.text import TfidfVectorizer\n",
    "tfidf = TfidfVectorizer(max_features=3000)\n",
    "X = tfidf.fit_transform(df_upsampled['transformed_text']).toarray()\n",
    "y=df_upsampled['Recommended'].values\n",
    "X_train,X_test,y_train,y_test = train_test_split(X,y,test_size=0.2,stratify=y,random_state=42)"
   ]
  },
  {
   "cell_type": "code",
   "execution_count": 43,
   "id": "5c3ee974",
   "metadata": {
    "execution": {
     "iopub.execute_input": "2022-06-20T12:29:30.633470Z",
     "iopub.status.busy": "2022-06-20T12:29:30.632931Z",
     "iopub.status.idle": "2022-06-20T12:29:30.640686Z",
     "shell.execute_reply": "2022-06-20T12:29:30.639901Z"
    },
    "papermill": {
     "duration": 0.040158,
     "end_time": "2022-06-20T12:29:30.642994",
     "exception": false,
     "start_time": "2022-06-20T12:29:30.602836",
     "status": "completed"
    },
    "tags": []
   },
   "outputs": [
    {
     "data": {
      "text/plain": [
       "((25308, 3000), (6327, 3000), (25308,), (6327,))"
      ]
     },
     "execution_count": 43,
     "metadata": {},
     "output_type": "execute_result"
    }
   ],
   "source": [
    "X_train.shape,X_test.shape,y_train.shape,y_test.shape"
   ]
  },
  {
   "cell_type": "code",
   "execution_count": 44,
   "id": "e10ec535",
   "metadata": {
    "execution": {
     "iopub.execute_input": "2022-06-20T12:29:30.703735Z",
     "iopub.status.busy": "2022-06-20T12:29:30.703349Z",
     "iopub.status.idle": "2022-06-20T12:29:30.895022Z",
     "shell.execute_reply": "2022-06-20T12:29:30.893034Z"
    },
    "papermill": {
     "duration": 0.225553,
     "end_time": "2022-06-20T12:29:30.897760",
     "exception": false,
     "start_time": "2022-06-20T12:29:30.672207",
     "status": "completed"
    },
    "tags": []
   },
   "outputs": [],
   "source": [
    "from sklearn.linear_model import LogisticRegression\n",
    "from sklearn.svm import SVC\n",
    "from sklearn.naive_bayes import MultinomialNB\n",
    "from sklearn.tree import DecisionTreeClassifier\n",
    "from sklearn.neighbors import KNeighborsClassifier\n",
    "from sklearn.ensemble import RandomForestClassifier"
   ]
  },
  {
   "cell_type": "code",
   "execution_count": 45,
   "id": "0fb1338e",
   "metadata": {
    "execution": {
     "iopub.execute_input": "2022-06-20T12:29:30.958161Z",
     "iopub.status.busy": "2022-06-20T12:29:30.957732Z",
     "iopub.status.idle": "2022-06-20T12:29:30.964091Z",
     "shell.execute_reply": "2022-06-20T12:29:30.962852Z"
    },
    "papermill": {
     "duration": 0.039148,
     "end_time": "2022-06-20T12:29:30.966296",
     "exception": false,
     "start_time": "2022-06-20T12:29:30.927148",
     "status": "completed"
    },
    "tags": []
   },
   "outputs": [],
   "source": [
    "svc = SVC(kernel='sigmoid', gamma=1.0)\n",
    "knc = KNeighborsClassifier()\n",
    "mnb = MultinomialNB()\n",
    "dtc = DecisionTreeClassifier(max_depth=5)\n",
    "lrc = LogisticRegression(solver='liblinear', penalty='l1')\n",
    "rfc = RandomForestClassifier(n_estimators=50, random_state=2)"
   ]
  },
  {
   "cell_type": "code",
   "execution_count": 46,
   "id": "82134c2d",
   "metadata": {
    "execution": {
     "iopub.execute_input": "2022-06-20T12:29:31.028446Z",
     "iopub.status.busy": "2022-06-20T12:29:31.027663Z",
     "iopub.status.idle": "2022-06-20T12:29:31.033655Z",
     "shell.execute_reply": "2022-06-20T12:29:31.032857Z"
    },
    "papermill": {
     "duration": 0.040276,
     "end_time": "2022-06-20T12:29:31.035982",
     "exception": false,
     "start_time": "2022-06-20T12:29:30.995706",
     "status": "completed"
    },
    "tags": []
   },
   "outputs": [],
   "source": [
    "from sklearn.metrics import accuracy_score,precision_score,confusion_matrix,classification_report,f1_score,roc_auc_score,roc_curve,auc"
   ]
  },
  {
   "cell_type": "code",
   "execution_count": 47,
   "id": "919d5a4b",
   "metadata": {
    "execution": {
     "iopub.execute_input": "2022-06-20T12:29:31.099562Z",
     "iopub.status.busy": "2022-06-20T12:29:31.098804Z",
     "iopub.status.idle": "2022-06-20T12:29:31.106340Z",
     "shell.execute_reply": "2022-06-20T12:29:31.104880Z"
    },
    "papermill": {
     "duration": 0.042162,
     "end_time": "2022-06-20T12:29:31.109207",
     "exception": false,
     "start_time": "2022-06-20T12:29:31.067045",
     "status": "completed"
    },
    "tags": []
   },
   "outputs": [],
   "source": [
    "def train_classifier(clf,X_train,y_train,X_test,y_test):\n",
    "    clf.fit(X_train,y_train)\n",
    "    y_pred = clf.predict(X_test)\n",
    "    accuracy = accuracy_score(y_test,y_pred)\n",
    "    precision = precision_score(y_test,y_pred)\n",
    "    return accuracy,precision"
   ]
  },
  {
   "cell_type": "code",
   "execution_count": 48,
   "id": "4bf3db33",
   "metadata": {
    "execution": {
     "iopub.execute_input": "2022-06-20T12:29:31.174260Z",
     "iopub.status.busy": "2022-06-20T12:29:31.173020Z",
     "iopub.status.idle": "2022-06-20T12:29:32.000907Z",
     "shell.execute_reply": "2022-06-20T12:29:31.999680Z"
    },
    "papermill": {
     "duration": 0.864195,
     "end_time": "2022-06-20T12:29:32.004983",
     "exception": false,
     "start_time": "2022-06-20T12:29:31.140788",
     "status": "completed"
    },
    "tags": []
   },
   "outputs": [
    {
     "data": {
      "text/plain": [
       "(0.9016911648490595, 0.9206349206349206)"
      ]
     },
     "execution_count": 48,
     "metadata": {},
     "output_type": "execute_result"
    }
   ],
   "source": [
    "train_classifier(lrc,X_train,y_train,X_test,y_test)"
   ]
  },
  {
   "cell_type": "code",
   "execution_count": 49,
   "id": "65d0518a",
   "metadata": {
    "execution": {
     "iopub.execute_input": "2022-06-20T12:29:32.115412Z",
     "iopub.status.busy": "2022-06-20T12:29:32.115022Z",
     "iopub.status.idle": "2022-06-20T12:29:32.120714Z",
     "shell.execute_reply": "2022-06-20T12:29:32.119767Z"
    },
    "papermill": {
     "duration": 0.061614,
     "end_time": "2022-06-20T12:29:32.123551",
     "exception": false,
     "start_time": "2022-06-20T12:29:32.061937",
     "status": "completed"
    },
    "tags": []
   },
   "outputs": [],
   "source": [
    "accuracy_list = []\n",
    "precision_list = []\n",
    "f1_list = []\n",
    "roc_auc_list = []"
   ]
  },
  {
   "cell_type": "code",
   "execution_count": 50,
   "id": "c0c2e663",
   "metadata": {
    "execution": {
     "iopub.execute_input": "2022-06-20T12:29:32.189422Z",
     "iopub.status.busy": "2022-06-20T12:29:32.188672Z",
     "iopub.status.idle": "2022-06-20T12:29:32.204940Z",
     "shell.execute_reply": "2022-06-20T12:29:32.203901Z"
    },
    "papermill": {
     "duration": 0.052802,
     "end_time": "2022-06-20T12:29:32.208171",
     "exception": false,
     "start_time": "2022-06-20T12:29:32.155369",
     "status": "completed"
    },
    "tags": []
   },
   "outputs": [],
   "source": [
    "def result(model):\n",
    "    \n",
    "    #fit on data\n",
    "    model.fit(X_train, y_train)\n",
    "    \n",
    "    #prediction\n",
    "    pred = model.predict(X_test)\n",
    "    \n",
    "    #performance of model\n",
    "    print(\"Classification Report: \\n\", classification_report(y_test, pred))\n",
    "    print(\"-\" * 100)\n",
    "    print()\n",
    "    \n",
    "    #accuracy of model\n",
    "    acc = accuracy_score(y_test, pred)\n",
    "    accuracy_list.append(acc)\n",
    "    print(\"Accuracy Score: \", acc)\n",
    "    print(\"-\" * 100)\n",
    "    print()\n",
    "    \n",
    "    #precision of model\n",
    "    pre = accuracy_score(y_test, pred)\n",
    "    precision_list.append(pre)\n",
    "    print(\"Precison Score: \", pre)\n",
    "    print(\"-\" * 100)\n",
    "    print()\n",
    "    \n",
    "    #f1-score of model\n",
    "    f1 = f1_score(y_test, pred)\n",
    "    f1_list.append(f1)\n",
    "    print(\"F1 Score: \", f1)\n",
    "    print(\"-\" * 100)\n",
    "    print()\n",
    "    \n",
    "    #roc-auc curve of model\n",
    "    fpr,tpr,threshold = roc_curve(y_test,pred)\n",
    "    auc_value = auc(fpr,tpr)\n",
    "    rocauc_score = roc_auc_score(y_test, pred)\n",
    "    roc_auc_list.append(rocauc_score)\n",
    "    plt.figure(figsize=(5,5),dpi=100)\n",
    "    print(\"ROC-AUC Score: \", f1)\n",
    "    print(\"-\" * 100)\n",
    "    print()\n",
    "    plt.plot(fpr,tpr,linestyle='-',label = \"(auc_value = %0.3f)\" % auc_value)\n",
    "    plt.xlabel('False Positive Rate')\n",
    "    plt.ylabel('True Positive Rate')\n",
    "    plt.legend()\n",
    "    plt.show()\n",
    "    print()\n",
    "    \n",
    "    #confusion matrix for model\n",
    "    print(\"Confusion Matrix: \")\n",
    "    cm=confusion_matrix(y_test,pred)\n",
    "    print(cm)"
   ]
  },
  {
   "cell_type": "code",
   "execution_count": 51,
   "id": "edce0056",
   "metadata": {
    "execution": {
     "iopub.execute_input": "2022-06-20T12:29:32.272716Z",
     "iopub.status.busy": "2022-06-20T12:29:32.271913Z",
     "iopub.status.idle": "2022-06-20T12:29:32.280556Z",
     "shell.execute_reply": "2022-06-20T12:29:32.278851Z"
    },
    "papermill": {
     "duration": 0.04381,
     "end_time": "2022-06-20T12:29:32.283457",
     "exception": false,
     "start_time": "2022-06-20T12:29:32.239647",
     "status": "completed"
    },
    "tags": []
   },
   "outputs": [
    {
     "data": {
      "text/plain": [
       "(25308, 3000)"
      ]
     },
     "execution_count": 51,
     "metadata": {},
     "output_type": "execute_result"
    }
   ],
   "source": [
    "X_train.shape"
   ]
  },
  {
   "cell_type": "code",
   "execution_count": 52,
   "id": "e2aadedd",
   "metadata": {
    "execution": {
     "iopub.execute_input": "2022-06-20T12:29:32.351749Z",
     "iopub.status.busy": "2022-06-20T12:29:32.351065Z",
     "iopub.status.idle": "2022-06-20T12:29:32.358084Z",
     "shell.execute_reply": "2022-06-20T12:29:32.356698Z"
    },
    "papermill": {
     "duration": 0.045055,
     "end_time": "2022-06-20T12:29:32.360824",
     "exception": false,
     "start_time": "2022-06-20T12:29:32.315769",
     "status": "completed"
    },
    "tags": []
   },
   "outputs": [],
   "source": [
    "clfs = {\n",
    "    'SVC' : svc,\n",
    "    'KN' : knc, \n",
    "    'NB': mnb, \n",
    "    'DT': dtc, \n",
    "    'LR': lrc, \n",
    "    'RF': rfc\n",
    "}"
   ]
  },
  {
   "cell_type": "code",
   "execution_count": 53,
   "id": "48288301",
   "metadata": {
    "execution": {
     "iopub.execute_input": "2022-06-20T12:29:32.424008Z",
     "iopub.status.busy": "2022-06-20T12:29:32.423542Z",
     "iopub.status.idle": "2022-06-20T12:43:21.108082Z",
     "shell.execute_reply": "2022-06-20T12:43:21.106928Z"
    },
    "papermill": {
     "duration": 828.752578,
     "end_time": "2022-06-20T12:43:21.143490",
     "exception": false,
     "start_time": "2022-06-20T12:29:32.390912",
     "status": "completed"
    },
    "tags": []
   },
   "outputs": [
    {
     "name": "stdout",
     "output_type": "stream",
     "text": [
      "For  SVC\n",
      "Accuracy -  0.8708708708708709\n",
      "Precision -  0.8837060702875399\n",
      "For  KN\n",
      "Accuracy -  0.8506401137980085\n",
      "Precision -  0.8992275280898876\n",
      "For  NB\n",
      "Accuracy -  0.8933143669985776\n",
      "Precision -  0.9105874757908328\n",
      "For  DT\n",
      "Accuracy -  0.6829461039987356\n",
      "Precision -  0.8086513994910941\n",
      "For  LR\n",
      "Accuracy -  0.9016911648490595\n",
      "Precision -  0.9206349206349206\n",
      "For  RF\n",
      "Accuracy -  0.9701280227596017\n",
      "Precision -  0.9890251775338929\n"
     ]
    }
   ],
   "source": [
    "accuracy_scores = []\n",
    "precision_scores = []\n",
    "\n",
    "for name,clf in clfs.items():\n",
    "    \n",
    "    current_accuracy,current_precision = train_classifier(clf, X_train,y_train,X_test,y_test)\n",
    "    \n",
    "    print(\"For \",name)\n",
    "    print(\"Accuracy - \",current_accuracy)\n",
    "    print(\"Precision - \",current_precision)\n",
    "    \n",
    "    accuracy_scores.append(current_accuracy)\n",
    "    precision_scores.append(current_precision) "
   ]
  },
  {
   "cell_type": "code",
   "execution_count": 54,
   "id": "288453b7",
   "metadata": {
    "execution": {
     "iopub.execute_input": "2022-06-20T12:43:21.205346Z",
     "iopub.status.busy": "2022-06-20T12:43:21.204615Z",
     "iopub.status.idle": "2022-06-20T12:43:41.156519Z",
     "shell.execute_reply": "2022-06-20T12:43:41.155769Z"
    },
    "papermill": {
     "duration": 19.985718,
     "end_time": "2022-06-20T12:43:41.158778",
     "exception": false,
     "start_time": "2022-06-20T12:43:21.173060",
     "status": "completed"
    },
    "tags": []
   },
   "outputs": [
    {
     "name": "stdout",
     "output_type": "stream",
     "text": [
      "Classification Report: \n",
      "               precision    recall  f1-score   support\n",
      "\n",
      "           0       0.95      0.99      0.97      3108\n",
      "           1       0.99      0.95      0.97      3219\n",
      "\n",
      "    accuracy                           0.97      6327\n",
      "   macro avg       0.97      0.97      0.97      6327\n",
      "weighted avg       0.97      0.97      0.97      6327\n",
      "\n",
      "----------------------------------------------------------------------------------------------------\n",
      "\n",
      "Accuracy Score:  0.9701280227596017\n",
      "----------------------------------------------------------------------------------------------------\n",
      "\n",
      "Precison Score:  0.9701280227596017\n",
      "----------------------------------------------------------------------------------------------------\n",
      "\n",
      "F1 Score:  0.9700807345258826\n",
      "----------------------------------------------------------------------------------------------------\n",
      "\n",
      "ROC-AUC Score:  0.9700807345258826\n",
      "----------------------------------------------------------------------------------------------------\n",
      "\n"
     ]
    },
    {
     "data": {
      "image/png": "[encoded data removed]",
      "text/plain": [
       "<Figure size 500x500 with 1 Axes>"
      ]
     },
     "metadata": {
      "needs_background": "light"
     },
     "output_type": "display_data"
    },
    {
     "name": "stdout",
     "output_type": "stream",
     "text": [
      "\n",
      "Confusion Matrix: \n",
      "[[3074   34]\n",
      " [ 155 3064]]\n"
     ]
    }
   ],
   "source": [
    "result(rfc)"
   ]
  },
  {
   "cell_type": "code",
   "execution_count": null,
   "id": "fec4e80a",
   "metadata": {
    "papermill": {
     "duration": 0.030361,
     "end_time": "2022-06-20T12:43:41.220290",
     "exception": false,
     "start_time": "2022-06-20T12:43:41.189929",
     "status": "completed"
    },
    "tags": []
   },
   "outputs": [],
   "source": []
  }
 ],
 "metadata": {
  "kernelspec": {
   "display_name": "Python 3",
   "language": "python",
   "name": "python3"
  },
  "language_info": {
   "codemirror_mode": {
    "name": "ipython",
    "version": 3
   },
   "file_extension": ".py",
   "mimetype": "text/x-python",
   "name": "python",
   "nbconvert_exporter": "python",
   "pygments_lexer": "ipython3",
   "version": "3.7.12"
  },
  "papermill": {
   "default_parameters": {},
   "duration": 1279.47585,
   "end_time": "2022-06-20T12:43:42.484346",
   "environment_variables": {},
   "exception": null,
   "input_path": "__notebook__.ipynb",
   "output_path": "__notebook__.ipynb",
   "parameters": {},
   "start_time": "2022-06-20T12:22:23.008496",
   "version": "2.3.4"
  }
 },
 "nbformat": 4,
 "nbformat_minor": 5
}
